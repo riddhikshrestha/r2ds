{
 "cells": [
  {
   "cell_type": "markdown",
   "id": "13452d01",
   "metadata": {},
   "source": [
    "# Decorators\n",
    "- function copy\n",
    "- clousers\n",
    "- decorators"
   ]
  },
  {
   "cell_type": "code",
   "execution_count": 1,
   "id": "04c1c4c4",
   "metadata": {},
   "outputs": [],
   "source": [
    "def hello():\n",
    "    return \"Hello welcome to the session!\""
   ]
  },
  {
   "cell_type": "code",
   "execution_count": 2,
   "id": "fb210c9e",
   "metadata": {},
   "outputs": [],
   "source": [
    "h = hello()    # copied function to h\n",
    "del hello      # delete the hello"
   ]
  },
  {
   "cell_type": "code",
   "execution_count": 3,
   "id": "3a34dc67",
   "metadata": {},
   "outputs": [
    {
     "data": {
      "text/plain": [
       "'Hello welcome to the session!'"
      ]
     },
     "execution_count": 3,
     "metadata": {},
     "output_type": "execute_result"
    }
   ],
   "source": [
    "h"
   ]
  },
  {
   "cell_type": "code",
   "execution_count": 4,
   "id": "6b6dad3a",
   "metadata": {},
   "outputs": [
    {
     "ename": "NameError",
     "evalue": "name 'hello' is not defined",
     "output_type": "error",
     "traceback": [
      "\u001b[0;31m---------------------------------------------------------------------------\u001b[0m",
      "\u001b[0;31mNameError\u001b[0m                                 Traceback (most recent call last)",
      "\u001b[0;32m/tmp/ipykernel_7540/2123932688.py\u001b[0m in \u001b[0;36m<module>\u001b[0;34m\u001b[0m\n\u001b[0;32m----> 1\u001b[0;31m \u001b[0mhello\u001b[0m\u001b[0;34m(\u001b[0m\u001b[0;34m)\u001b[0m  \u001b[0;31m# if we execute hello() then we face that fuction not defined error\u001b[0m\u001b[0;34m\u001b[0m\u001b[0;34m\u001b[0m\u001b[0m\n\u001b[0m",
      "\u001b[0;31mNameError\u001b[0m: name 'hello' is not defined"
     ]
    }
   ],
   "source": [
    "hello()  # if we execute hello() then we face that fuction not defined error"
   ]
  },
  {
   "cell_type": "code",
   "execution_count": null,
   "id": "366c92da",
   "metadata": {},
   "outputs": [],
   "source": [
    "## Clousers\n",
    "#function inside the function is clauser\n",
    "## parent function and subfunction; what ever variable you define inside parent function that will be accessible inside the subfunction\n",
    "\n",
    "def main_hello(msg):\n",
    "    #msg = \"hello everyone\"\n",
    "    def sub_hello():\n",
    "        print(\"welcome to everyone to the session.\")\n",
    "        print(msg)\n",
    "        print(\"hope you get some intresting things\")\n",
    "    return sub_hello()"
   ]
  },
  {
   "cell_type": "code",
   "execution_count": null,
   "id": "d5976cbc",
   "metadata": {},
   "outputs": [],
   "source": [
    "main_hello(\"hello everyone\")"
   ]
  },
  {
   "cell_type": "code",
   "execution_count": null,
   "id": "9f4bae72",
   "metadata": {},
   "outputs": [],
   "source": [
    "## Closures & inital Decorators\n",
    "def main_hello(func):\n",
    "    #msg = \"hello everyone\"\n",
    "    def sub_hello():\n",
    "        print(\"welcome to everyone to the session.\")\n",
    "        func(\"hello everyone\")  \n",
    "        print(\"hope you get some intresting things\")\n",
    "    return sub_hello()"
   ]
  },
  {
   "cell_type": "raw",
   "id": "1e2fe1ba",
   "metadata": {},
   "source": [
    "# what ever inbuild function passed; based on that func of main_hello function will be called in subfunction"
   ]
  },
  {
   "cell_type": "code",
   "execution_count": null,
   "id": "837f44c4",
   "metadata": {},
   "outputs": [],
   "source": [
    "main_hello(print)   "
   ]
  },
  {
   "cell_type": "code",
   "execution_count": null,
   "id": "09004090",
   "metadata": {},
   "outputs": [],
   "source": [
    "#Can we pass our custom function to clausers i.e clausers"
   ]
  },
  {
   "cell_type": "code",
   "execution_count": null,
   "id": "d8b8da58",
   "metadata": {},
   "outputs": [],
   "source": [
    "## Decorators;\n",
    "# where we call function within the function \n",
    "# and then you are also passing function as parameter\n",
    "def main_hello(func):\n",
    "    #msg = \"hello everyone\"\n",
    "    def sub_hello():\n",
    "        print(\"welcome to everyone to the session.\")\n",
    "        func()  \n",
    "        print(\"hope you get some intresting things\")\n",
    "    return sub_hello()"
   ]
  },
  {
   "cell_type": "code",
   "execution_count": null,
   "id": "950dd799",
   "metadata": {},
   "outputs": [],
   "source": [
    "def instructor_name():\n",
    "    print(\"Riddi Kumar Shrestha\")"
   ]
  },
  {
   "cell_type": "code",
   "execution_count": null,
   "id": "5d704e6b",
   "metadata": {},
   "outputs": [],
   "source": [
    "main_hello(instructor_name)"
   ]
  },
  {
   "cell_type": "code",
   "execution_count": null,
   "id": "83103bd5",
   "metadata": {},
   "outputs": [],
   "source": [
    "## Another way to calling or using decorators\n",
    "@main_hello\n",
    "def instructor_name():\n",
    "    print(\"Riddi Kumar Shrestha\")"
   ]
  },
  {
   "cell_type": "markdown",
   "id": "2efe2e32",
   "metadata": {},
   "source": [
    "# Exception Handling\n",
    "Q.1. What is difference between error and exception?"
   ]
  },
  {
   "cell_type": "code",
   "execution_count": null,
   "id": "dd88e5d0",
   "metadata": {},
   "outputs": [],
   "source": [
    "x = y"
   ]
  },
  {
   "cell_type": "code",
   "execution_count": null,
   "id": "abef0b85",
   "metadata": {},
   "outputs": [],
   "source": [
    "# To handle such error\n",
    "try:\n",
    "    ###code block where exception can occur\n",
    "    x = y\n",
    "except:\n",
    "    print(\"Some problem may have occured!!\")"
   ]
  },
  {
   "cell_type": "code",
   "execution_count": null,
   "id": "deeea3eb",
   "metadata": {},
   "outputs": [],
   "source": [
    "# To show actual problem that lead to error\n",
    "try:\n",
    "    x = y\n",
    "except Exception as ex:\n",
    "    print(ex)"
   ]
  },
  {
   "cell_type": "code",
   "execution_count": null,
   "id": "d65a24be",
   "metadata": {},
   "outputs": [],
   "source": [
    "# To show our customize message to User UI\n",
    "try:\n",
    "    x = y\n",
    "except NameError as ex1:\n",
    "    print(\"User have not defined the variables\")\n",
    "except Exception as ex2:\n",
    "    print(ex2)"
   ]
  },
  {
   "cell_type": "code",
   "execution_count": null,
   "id": "b96c97f2",
   "metadata": {},
   "outputs": [],
   "source": [
    "x = 1\n",
    "y = \"H\"\n",
    "c = x + y"
   ]
  },
  {
   "cell_type": "code",
   "execution_count": 5,
   "id": "8c93d3bf",
   "metadata": {},
   "outputs": [
    {
     "name": "stdout",
     "output_type": "stream",
     "text": [
      "You should have to provide same type of values.\n"
     ]
    }
   ],
   "source": [
    "try:\n",
    "    x = 1\n",
    "    y = \"H\"\n",
    "    c = x + y\n",
    "except NameError:\n",
    "    print(\"User have not defined the variables\")\n",
    "except TypeError:\n",
    "    print(\"You should have to provide same type of values.\")\n",
    "except Exception as ex:\n",
    "    print(ex)"
   ]
  },
  {
   "cell_type": "code",
   "execution_count": 6,
   "id": "d8c869ad",
   "metadata": {},
   "outputs": [
    {
     "name": "stdout",
     "output_type": "stream",
     "text": [
      "Enter first num?12\n",
      "Enter second num?3\n",
      "4.0\n",
      "36\n",
      "15\n"
     ]
    }
   ],
   "source": [
    "# try else\n",
    "try:\n",
    "    x = int(input(\"Enter first num?\"))\n",
    "    y = int(input(\"Enter second num?\"))\n",
    "    z = x / y  # y = 0, divide by 0 error\n",
    "    w = x * y\n",
    "    u = x + y\n",
    "except NameError:\n",
    "    print(\"User have not defined the variables\")\n",
    "except TypeError:\n",
    "    print(\"You should have to provide same type of values.\")\n",
    "except ZeroDivisionError:\n",
    "    print(\"Please provide number greater than 0\")\n",
    "except Exception as ex:\n",
    "    print(ex)\n",
    "else:\n",
    "    print(z)\n",
    "    print(w)\n",
    "    print(u)"
   ]
  },
  {
   "cell_type": "code",
   "execution_count": 7,
   "id": "08a9d8f5",
   "metadata": {},
   "outputs": [
    {
     "name": "stdout",
     "output_type": "stream",
     "text": [
      "Enter first num?12\n",
      "Enter second num?3\n",
      "4.0\n",
      "The execution is done\n"
     ]
    }
   ],
   "source": [
    "# try else finally\n",
    "### finally block will executed even we get execption ,finally block will execute always\n",
    "\n",
    "try:\n",
    "    x = int(input(\"Enter first num?\"))\n",
    "    y = int(input(\"Enter second num?\"))\n",
    "    z = x / y  # y = 0, divide by 0 error\n",
    "    \n",
    "except NameError:\n",
    "    print(\"User have not defined the variables\")\n",
    "except TypeError:\n",
    "    print(\"You should have to provide same type of values.\")\n",
    "except ZeroDivisionError:\n",
    "    print(\"Please provide number greater than 0\")\n",
    "except Exception as ex:\n",
    "    print(ex)\n",
    "else:\n",
    "    print(z)\n",
    "finally:\n",
    "    print(\"The execution is done\")"
   ]
  },
  {
   "cell_type": "markdown",
   "id": "2e5951f6",
   "metadata": {},
   "source": [
    "## Custom Exception"
   ]
  },
  {
   "cell_type": "code",
   "execution_count": 8,
   "id": "e0ac8ec9",
   "metadata": {},
   "outputs": [],
   "source": [
    "class Error(Exception):\n",
    "    pass\n",
    "\n",
    "class dobException(Error):\n",
    "    pass"
   ]
  },
  {
   "cell_type": "code",
   "execution_count": 9,
   "id": "bf5ab3f7",
   "metadata": {},
   "outputs": [
    {
     "name": "stdout",
     "output_type": "stream",
     "text": [
      "Enter the year of birth1987\n",
      "The age range is not within the range. You cannot apply for PSC\n"
     ]
    }
   ],
   "source": [
    "year = int(input(\"Enter the year of birth\"))\n",
    "age = 2021-year\n",
    "\n",
    "try:\n",
    "    if age <= 30 & age > 20:\n",
    "        print(\"The age is valid. You can apply for PSC.\")\n",
    "    else:\n",
    "        raise dobException\n",
    "except dobException:\n",
    "    print(\"The age range is not within the range. You cannot apply for PSC\")"
   ]
  },
  {
   "cell_type": "markdown",
   "id": "6e452da1",
   "metadata": {},
   "source": [
    "# Assert Statement\n",
    "Python provides the assert statement to check if a given logical expression is true or false.\n",
    "\n",
    "Program execution proceeds only if the expression is false.true and raises the AssertionError when it is"
   ]
  },
  {
   "cell_type": "code",
   "execution_count": 10,
   "id": "4db90941",
   "metadata": {},
   "outputs": [],
   "source": [
    "num = 7\n",
    "assert num>=7"
   ]
  },
  {
   "cell_type": "code",
   "execution_count": 11,
   "id": "2afaecc3",
   "metadata": {},
   "outputs": [
    {
     "ename": "AssertionError",
     "evalue": "",
     "output_type": "error",
     "traceback": [
      "\u001b[0;31m---------------------------------------------------------------------------\u001b[0m",
      "\u001b[0;31mAssertionError\u001b[0m                            Traceback (most recent call last)",
      "\u001b[0;32m/tmp/ipykernel_7540/2855769812.py\u001b[0m in \u001b[0;36m<module>\u001b[0;34m\u001b[0m\n\u001b[1;32m      1\u001b[0m \u001b[0mnum\u001b[0m \u001b[0;34m=\u001b[0m \u001b[0;36m7\u001b[0m\u001b[0;34m\u001b[0m\u001b[0;34m\u001b[0m\u001b[0m\n\u001b[0;32m----> 2\u001b[0;31m \u001b[0;32massert\u001b[0m \u001b[0mnum\u001b[0m\u001b[0;34m>\u001b[0m\u001b[0;36m10\u001b[0m\u001b[0;34m\u001b[0m\u001b[0;34m\u001b[0m\u001b[0m\n\u001b[0m",
      "\u001b[0;31mAssertionError\u001b[0m: "
     ]
    }
   ],
   "source": [
    "num = 7\n",
    "assert num>10"
   ]
  },
  {
   "cell_type": "code",
   "execution_count": 12,
   "id": "b0ebe7bb",
   "metadata": {},
   "outputs": [
    {
     "name": "stdout",
     "output_type": "stream",
     "text": [
      "Enter the even number12\n",
      "The number is even\n"
     ]
    }
   ],
   "source": [
    "try:\n",
    "    num=int(input(\"Enter the even number\"))\n",
    "    assert num%2==0\n",
    "    print(\"The number is even\")\n",
    "except AssertionError:\n",
    "    print(\"Please enter even number\")"
   ]
  },
  {
   "cell_type": "markdown",
   "id": "2f8351a4",
   "metadata": {},
   "source": [
    "# Object Orieneted Programming (OOPS)\n",
    "- Class is blueprint of an object.\n",
    "- Object is an instance of a class."
   ]
  },
  {
   "cell_type": "code",
   "execution_count": 13,
   "id": "0e5d2279",
   "metadata": {},
   "outputs": [],
   "source": [
    "class Car:\n",
    "    pass"
   ]
  },
  {
   "cell_type": "code",
   "execution_count": 14,
   "id": "42c2213b",
   "metadata": {},
   "outputs": [],
   "source": [
    "car1 = Car()"
   ]
  },
  {
   "cell_type": "code",
   "execution_count": 15,
   "id": "f11f2580",
   "metadata": {},
   "outputs": [
    {
     "data": {
      "text/plain": [
       "<__main__.Car at 0x7fdb126d2460>"
      ]
     },
     "execution_count": 15,
     "metadata": {},
     "output_type": "execute_result"
    }
   ],
   "source": [
    "car1"
   ]
  },
  {
   "cell_type": "code",
   "execution_count": 16,
   "id": "d3f18f1f",
   "metadata": {},
   "outputs": [
    {
     "name": "stdout",
     "output_type": "stream",
     "text": [
      "4\n",
      "4\n"
     ]
    }
   ],
   "source": [
    "car1.windows = 4\n",
    "car1.doors = 4\n",
    "print(car1.windows)\n",
    "print(car1.doors)"
   ]
  },
  {
   "cell_type": "code",
   "execution_count": 17,
   "id": "d2d5bc6d",
   "metadata": {},
   "outputs": [
    {
     "data": {
      "text/plain": [
       "['__class__',\n",
       " '__delattr__',\n",
       " '__dict__',\n",
       " '__dir__',\n",
       " '__doc__',\n",
       " '__eq__',\n",
       " '__format__',\n",
       " '__ge__',\n",
       " '__getattribute__',\n",
       " '__gt__',\n",
       " '__hash__',\n",
       " '__init__',\n",
       " '__init_subclass__',\n",
       " '__le__',\n",
       " '__lt__',\n",
       " '__module__',\n",
       " '__ne__',\n",
       " '__new__',\n",
       " '__reduce__',\n",
       " '__reduce_ex__',\n",
       " '__repr__',\n",
       " '__setattr__',\n",
       " '__sizeof__',\n",
       " '__str__',\n",
       " '__subclasshook__',\n",
       " '__weakref__',\n",
       " 'doors',\n",
       " 'windows']"
      ]
     },
     "execution_count": 17,
     "metadata": {},
     "output_type": "execute_result"
    }
   ],
   "source": [
    "dir(car1)"
   ]
  },
  {
   "cell_type": "raw",
   "id": "e3287499",
   "metadata": {},
   "source": [
    "All above these are bad approach to create class"
   ]
  },
  {
   "cell_type": "code",
   "execution_count": null,
   "id": "6c6a141c",
   "metadata": {},
   "outputs": [],
   "source": [
    "## Good way to create Class "
   ]
  },
  {
   "cell_type": "code",
   "execution_count": 18,
   "id": "30638f30",
   "metadata": {},
   "outputs": [],
   "source": [
    "class Car:\n",
    "    def __init__(self,window,door,enginetype): # __init__ is constructor\n",
    "        self.windows = window\n",
    "        self.doors = door\n",
    "        self.enginetypes = enginetype\n",
    "    \n",
    "    def self_driving(self):\n",
    "        return \"This is a {} car\".format(self.enginetypes)"
   ]
  },
  {
   "cell_type": "code",
   "execution_count": 19,
   "id": "05fad053",
   "metadata": {},
   "outputs": [],
   "source": [
    "car2 = Car(4,5,'petrol')"
   ]
  },
  {
   "cell_type": "code",
   "execution_count": 20,
   "id": "1278ba20",
   "metadata": {},
   "outputs": [],
   "source": [
    "car3 = Car(3,4,'desel')"
   ]
  },
  {
   "cell_type": "code",
   "execution_count": 21,
   "id": "0be79abe",
   "metadata": {},
   "outputs": [
    {
     "name": "stdout",
     "output_type": "stream",
     "text": [
      "4\n"
     ]
    }
   ],
   "source": [
    "print(car2.windows)"
   ]
  },
  {
   "cell_type": "code",
   "execution_count": 22,
   "id": "17cd8653",
   "metadata": {},
   "outputs": [
    {
     "name": "stdout",
     "output_type": "stream",
     "text": [
      "desel\n"
     ]
    }
   ],
   "source": [
    "print(car3.enginetypes)"
   ]
  },
  {
   "cell_type": "code",
   "execution_count": 23,
   "id": "c98cd188",
   "metadata": {},
   "outputs": [
    {
     "data": {
      "text/plain": [
       "'This is a petrol car'"
      ]
     },
     "execution_count": 23,
     "metadata": {},
     "output_type": "execute_result"
    }
   ],
   "source": [
    "car2.self_driving()"
   ]
  },
  {
   "cell_type": "code",
   "execution_count": 24,
   "id": "9878abfd",
   "metadata": {},
   "outputs": [
    {
     "data": {
      "text/plain": [
       "'This is a desel car'"
      ]
     },
     "execution_count": 24,
     "metadata": {},
     "output_type": "execute_result"
    }
   ],
   "source": [
    "car3.self_driving()"
   ]
  },
  {
   "cell_type": "markdown",
   "id": "f70f899c",
   "metadata": {},
   "source": [
    "# Public, Protected and Private Access Modifier"
   ]
  },
  {
   "cell_type": "code",
   "execution_count": 25,
   "id": "86bec973",
   "metadata": {},
   "outputs": [],
   "source": [
    "# All the class variables are public\n",
    "class Car:\n",
    "    def __init__(self,window,door,enginetype):\n",
    "        self.windows = window\n",
    "        self.doors = door\n",
    "        self.enginetypes = enginetype"
   ]
  },
  {
   "cell_type": "code",
   "execution_count": 26,
   "id": "1e4cecd9",
   "metadata": {},
   "outputs": [],
   "source": [
    "nissan = Car(4,4,'Desiel')"
   ]
  },
  {
   "cell_type": "code",
   "execution_count": 27,
   "id": "ab95389f",
   "metadata": {},
   "outputs": [
    {
     "data": {
      "text/plain": [
       "4"
      ]
     },
     "execution_count": 27,
     "metadata": {},
     "output_type": "execute_result"
    }
   ],
   "source": [
    "nissan.windows"
   ]
  },
  {
   "cell_type": "code",
   "execution_count": 28,
   "id": "1abf844b",
   "metadata": {},
   "outputs": [],
   "source": [
    "# Override\n",
    "nissan.windows = 5"
   ]
  },
  {
   "cell_type": "code",
   "execution_count": 29,
   "id": "b08a7ba4",
   "metadata": {},
   "outputs": [
    {
     "data": {
      "text/plain": [
       "5"
      ]
     },
     "execution_count": 29,
     "metadata": {},
     "output_type": "execute_result"
    }
   ],
   "source": [
    "nissan.windows"
   ]
  },
  {
   "cell_type": "code",
   "execution_count": 30,
   "id": "df544e9e",
   "metadata": {},
   "outputs": [
    {
     "data": {
      "text/plain": [
       "['__class__',\n",
       " '__delattr__',\n",
       " '__dict__',\n",
       " '__dir__',\n",
       " '__doc__',\n",
       " '__eq__',\n",
       " '__format__',\n",
       " '__ge__',\n",
       " '__getattribute__',\n",
       " '__gt__',\n",
       " '__hash__',\n",
       " '__init__',\n",
       " '__init_subclass__',\n",
       " '__le__',\n",
       " '__lt__',\n",
       " '__module__',\n",
       " '__ne__',\n",
       " '__new__',\n",
       " '__reduce__',\n",
       " '__reduce_ex__',\n",
       " '__repr__',\n",
       " '__setattr__',\n",
       " '__sizeof__',\n",
       " '__str__',\n",
       " '__subclasshook__',\n",
       " '__weakref__',\n",
       " 'doors',\n",
       " 'enginetypes',\n",
       " 'windows']"
      ]
     },
     "execution_count": 30,
     "metadata": {},
     "output_type": "execute_result"
    }
   ],
   "source": [
    "dir(nissan)"
   ]
  },
  {
   "cell_type": "code",
   "execution_count": 31,
   "id": "bdb063ea",
   "metadata": {},
   "outputs": [],
   "source": [
    "# protected\n",
    "class Car:\n",
    "    def __init__(self,window,door,enginetype):\n",
    "        self._windows = window\n",
    "        self._doors = door\n",
    "        self._enginetypes = enginetype"
   ]
  },
  {
   "cell_type": "code",
   "execution_count": 32,
   "id": "419649c1",
   "metadata": {},
   "outputs": [],
   "source": [
    "datsun = Car(3,3,'Petrol')"
   ]
  },
  {
   "cell_type": "code",
   "execution_count": 33,
   "id": "e7276cf0",
   "metadata": {},
   "outputs": [
    {
     "data": {
      "text/plain": [
       "['__class__',\n",
       " '__delattr__',\n",
       " '__dict__',\n",
       " '__dir__',\n",
       " '__doc__',\n",
       " '__eq__',\n",
       " '__format__',\n",
       " '__ge__',\n",
       " '__getattribute__',\n",
       " '__gt__',\n",
       " '__hash__',\n",
       " '__init__',\n",
       " '__init_subclass__',\n",
       " '__le__',\n",
       " '__lt__',\n",
       " '__module__',\n",
       " '__ne__',\n",
       " '__new__',\n",
       " '__reduce__',\n",
       " '__reduce_ex__',\n",
       " '__repr__',\n",
       " '__setattr__',\n",
       " '__sizeof__',\n",
       " '__str__',\n",
       " '__subclasshook__',\n",
       " '__weakref__',\n",
       " '_doors',\n",
       " '_enginetypes',\n",
       " '_windows']"
      ]
     },
     "execution_count": 33,
     "metadata": {},
     "output_type": "execute_result"
    }
   ],
   "source": [
    "dir(datsun)"
   ]
  },
  {
   "cell_type": "code",
   "execution_count": 34,
   "id": "230dfc97",
   "metadata": {},
   "outputs": [],
   "source": [
    "class Truck(Car):\n",
    "    def __init__(self,window,door,enginetype,horsepower):\n",
    "        super().__init__(window,door,enginetype)\n",
    "        self.horsepowers =horsepower"
   ]
  },
  {
   "cell_type": "code",
   "execution_count": 35,
   "id": "4c25c866",
   "metadata": {},
   "outputs": [
    {
     "data": {
      "text/plain": [
       "['__class__',\n",
       " '__delattr__',\n",
       " '__dict__',\n",
       " '__dir__',\n",
       " '__doc__',\n",
       " '__eq__',\n",
       " '__format__',\n",
       " '__ge__',\n",
       " '__getattribute__',\n",
       " '__gt__',\n",
       " '__hash__',\n",
       " '__init__',\n",
       " '__init_subclass__',\n",
       " '__le__',\n",
       " '__lt__',\n",
       " '__module__',\n",
       " '__ne__',\n",
       " '__new__',\n",
       " '__reduce__',\n",
       " '__reduce_ex__',\n",
       " '__repr__',\n",
       " '__setattr__',\n",
       " '__sizeof__',\n",
       " '__str__',\n",
       " '__subclasshook__',\n",
       " '__weakref__',\n",
       " '_doors',\n",
       " '_enginetypes',\n",
       " '_windows',\n",
       " 'horsepowers']"
      ]
     },
     "execution_count": 35,
     "metadata": {},
     "output_type": "execute_result"
    }
   ],
   "source": [
    "truck = Truck(5,5,\"Diesel\",5000)\n",
    "dir(truck)"
   ]
  },
  {
   "cell_type": "code",
   "execution_count": 36,
   "id": "b9dac323",
   "metadata": {},
   "outputs": [],
   "source": [
    "# Override from subclass or child class\n",
    "truck._doors = 10"
   ]
  },
  {
   "cell_type": "code",
   "execution_count": 37,
   "id": "ad7162df",
   "metadata": {},
   "outputs": [
    {
     "data": {
      "text/plain": [
       "10"
      ]
     },
     "execution_count": 37,
     "metadata": {},
     "output_type": "execute_result"
    }
   ],
   "source": [
    "truck._doors"
   ]
  },
  {
   "cell_type": "code",
   "execution_count": 38,
   "id": "68e9a5f1",
   "metadata": {},
   "outputs": [],
   "source": [
    "### Private \n",
    "# Private variable are not access outside of class\n",
    "class Car:\n",
    "    def __init__(self,window,door,enginetype):\n",
    "        self.__windows = window\n",
    "        self.__doors = door\n",
    "        self.__enginetypes = enginetype"
   ]
  },
  {
   "cell_type": "code",
   "execution_count": 39,
   "id": "e8cdadf0",
   "metadata": {},
   "outputs": [],
   "source": [
    "su = Car(5,4,\"Disel\")"
   ]
  },
  {
   "cell_type": "code",
   "execution_count": 40,
   "id": "039e8a80",
   "metadata": {},
   "outputs": [
    {
     "data": {
      "text/plain": [
       "['_Car__doors',\n",
       " '_Car__enginetypes',\n",
       " '_Car__windows',\n",
       " '__class__',\n",
       " '__delattr__',\n",
       " '__dict__',\n",
       " '__dir__',\n",
       " '__doc__',\n",
       " '__eq__',\n",
       " '__format__',\n",
       " '__ge__',\n",
       " '__getattribute__',\n",
       " '__gt__',\n",
       " '__hash__',\n",
       " '__init__',\n",
       " '__init_subclass__',\n",
       " '__le__',\n",
       " '__lt__',\n",
       " '__module__',\n",
       " '__ne__',\n",
       " '__new__',\n",
       " '__reduce__',\n",
       " '__reduce_ex__',\n",
       " '__repr__',\n",
       " '__setattr__',\n",
       " '__sizeof__',\n",
       " '__str__',\n",
       " '__subclasshook__',\n",
       " '__weakref__']"
      ]
     },
     "execution_count": 40,
     "metadata": {},
     "output_type": "execute_result"
    }
   ],
   "source": [
    "dir(su)"
   ]
  },
  {
   "cell_type": "markdown",
   "id": "36cfafc3",
   "metadata": {},
   "source": [
    "# Class Variables and Methods"
   ]
  },
  {
   "cell_type": "code",
   "execution_count": 41,
   "id": "30831baf",
   "metadata": {},
   "outputs": [],
   "source": [
    "class Car:\n",
    "    base_price = 8000000  # class variables\n",
    "    def __init__(self,window,door,power):\n",
    "        self.windows = window  # windows,doors,powers; instance variable\n",
    "        self.doors = door\n",
    "        self.powers = power\n",
    "        \n",
    "    def price_of_car(self):\n",
    "        print(\"The base price of car is {}\".format(self.base_price))"
   ]
  },
  {
   "cell_type": "code",
   "execution_count": 42,
   "id": "2fbded33",
   "metadata": {},
   "outputs": [
    {
     "data": {
      "text/plain": [
       "8000000"
      ]
     },
     "execution_count": 42,
     "metadata": {},
     "output_type": "execute_result"
    }
   ],
   "source": [
    "car = Car(4,4,3000)\n",
    "car.base_price"
   ]
  },
  {
   "cell_type": "code",
   "execution_count": 43,
   "id": "a02e2436",
   "metadata": {},
   "outputs": [
    {
     "data": {
      "text/plain": [
       "8000000"
      ]
     },
     "execution_count": 43,
     "metadata": {},
     "output_type": "execute_result"
    }
   ],
   "source": [
    "Car.base_price"
   ]
  },
  {
   "cell_type": "code",
   "execution_count": 44,
   "id": "3e7cc2cd",
   "metadata": {},
   "outputs": [],
   "source": [
    "# The above two ways are to access class variable;\n",
    "\n",
    "# What if we want to update base price on some inflation rate in future year\n",
    "#then we have to use class method which will be handy"
   ]
  },
  {
   "cell_type": "code",
   "execution_count": 45,
   "id": "8bf11ff4",
   "metadata": {},
   "outputs": [],
   "source": [
    "class Car:\n",
    "    base_price = 8000000  # class variables\n",
    "    def __init__(self,window,door,power):\n",
    "        self.windows = window  # windows,doors,powers; instance variable\n",
    "        self.doors = door\n",
    "        self.powers = power\n",
    "        \n",
    "    #Instance Method\n",
    "    def price_of_car(self):\n",
    "        print(\"The base price of car is {}\".format(self.base_price))\n",
    "        \n",
    "    @classmethod\n",
    "    def revise_base_price(cls,inflation):\n",
    "        cls.base_price = cls.base_price+cls.base_price*inflation"
   ]
  },
  {
   "cell_type": "code",
   "execution_count": 46,
   "id": "59b1fa4a",
   "metadata": {},
   "outputs": [],
   "source": [
    "Car.revise_base_price(0.10)"
   ]
  },
  {
   "cell_type": "code",
   "execution_count": 47,
   "id": "35468a04",
   "metadata": {},
   "outputs": [
    {
     "data": {
      "text/plain": [
       "8800000.0"
      ]
     },
     "execution_count": 47,
     "metadata": {},
     "output_type": "execute_result"
    }
   ],
   "source": [
    "Car.base_price"
   ]
  },
  {
   "cell_type": "code",
   "execution_count": 48,
   "id": "9eb4bd95",
   "metadata": {},
   "outputs": [],
   "source": [
    "car1 = Car(6,5,4000)"
   ]
  },
  {
   "cell_type": "code",
   "execution_count": 49,
   "id": "7a2958eb",
   "metadata": {},
   "outputs": [
    {
     "data": {
      "text/plain": [
       "8800000.0"
      ]
     },
     "execution_count": 49,
     "metadata": {},
     "output_type": "execute_result"
    }
   ],
   "source": [
    "car1.base_price"
   ]
  },
  {
   "cell_type": "code",
   "execution_count": 50,
   "id": "44b16a5b",
   "metadata": {},
   "outputs": [],
   "source": [
    "# We see that base price is update by using inflation rate with class method"
   ]
  },
  {
   "cell_type": "markdown",
   "id": "a4554f4a",
   "metadata": {},
   "source": [
    "# Static Methods"
   ]
  },
  {
   "cell_type": "code",
   "execution_count": 51,
   "id": "8b5b1faf",
   "metadata": {},
   "outputs": [],
   "source": [
    "import datetime\n",
    "now = datetime.datetime.now()"
   ]
  },
  {
   "cell_type": "code",
   "execution_count": 52,
   "id": "7b629f1b",
   "metadata": {},
   "outputs": [],
   "source": [
    "class Car:\n",
    "    base_price = 8000000  # class variables\n",
    "    def __init__(self,window,door,power):\n",
    "        self.windows = window  # windows,doors,powers; instance variable\n",
    "        self.doors = door\n",
    "        self.powers = power\n",
    "        \n",
    "    #Instance Method\n",
    "    def price_of_car(self):\n",
    "        print(\"The base price of car is {}\".format(self.base_price))\n",
    "        \n",
    "    @classmethod\n",
    "    def revise_base_price(cls,inflation):\n",
    "        cls.base_price = cls.base_price+cls.base_price*inflation\n",
    "        \n",
    "    \n",
    "    # We no need to provide instance parameter or class parameter in static method i.e. self and cls\n",
    "    # We can call static method using class; and it will be much faster as doing by instance and class method\n",
    "    \n",
    "    # Once the class is loaded or execute; the first thing that is initalize is static method\n",
    "    # Entire applicaiton is running,Static method get execute only once, we can't make multiple copies as instance method and class method do.\n",
    "    \n",
    "    @staticmethod\n",
    "    def check_year():\n",
    "        if now.year==2022:\n",
    "            return True\n",
    "        else:\n",
    "            return False"
   ]
  },
  {
   "cell_type": "code",
   "execution_count": 53,
   "id": "28b0b37d",
   "metadata": {},
   "outputs": [
    {
     "data": {
      "text/plain": [
       "True"
      ]
     },
     "execution_count": 53,
     "metadata": {},
     "output_type": "execute_result"
    }
   ],
   "source": [
    "Car.check_year()"
   ]
  },
  {
   "cell_type": "code",
   "execution_count": 54,
   "id": "2cad5970",
   "metadata": {},
   "outputs": [],
   "source": [
    "car1 = Car(2,3,5000)"
   ]
  },
  {
   "cell_type": "code",
   "execution_count": 55,
   "id": "7168f14d",
   "metadata": {},
   "outputs": [],
   "source": [
    "if(car1.check_year()):\n",
    "    pass\n",
    "else:\n",
    "    Car.revise_base_price(0.10)"
   ]
  },
  {
   "cell_type": "code",
   "execution_count": 56,
   "id": "2be82969",
   "metadata": {},
   "outputs": [
    {
     "data": {
      "text/plain": [
       "8000000"
      ]
     },
     "execution_count": 56,
     "metadata": {},
     "output_type": "execute_result"
    }
   ],
   "source": [
    "car1.base_price"
   ]
  },
  {
   "cell_type": "markdown",
   "id": "1d7491bc",
   "metadata": {},
   "source": [
    "# Magic Methods"
   ]
  },
  {
   "cell_type": "code",
   "execution_count": 57,
   "id": "da9709e5",
   "metadata": {},
   "outputs": [],
   "source": [
    "class Car:\n",
    "    def __init__(self,window,door,enginetype):\n",
    "        self.windows = window\n",
    "        self.doors = door\n",
    "        self.enginetypes = enginetype\n",
    "        \n",
    "    def drive(self):\n",
    "        print(\"The person drive the car\")"
   ]
  },
  {
   "cell_type": "code",
   "execution_count": 58,
   "id": "2799a1dc",
   "metadata": {},
   "outputs": [],
   "source": [
    "c = Car(4,5,\"Disel\")"
   ]
  },
  {
   "cell_type": "code",
   "execution_count": 59,
   "id": "815b03de",
   "metadata": {},
   "outputs": [
    {
     "data": {
      "text/plain": [
       "['__class__',\n",
       " '__delattr__',\n",
       " '__dict__',\n",
       " '__dir__',\n",
       " '__doc__',\n",
       " '__eq__',\n",
       " '__format__',\n",
       " '__ge__',\n",
       " '__getattribute__',\n",
       " '__gt__',\n",
       " '__hash__',\n",
       " '__init__',\n",
       " '__init_subclass__',\n",
       " '__le__',\n",
       " '__lt__',\n",
       " '__module__',\n",
       " '__ne__',\n",
       " '__new__',\n",
       " '__reduce__',\n",
       " '__reduce_ex__',\n",
       " '__repr__',\n",
       " '__setattr__',\n",
       " '__sizeof__',\n",
       " '__str__',\n",
       " '__subclasshook__',\n",
       " '__weakref__',\n",
       " 'doors',\n",
       " 'drive',\n",
       " 'enginetypes',\n",
       " 'windows']"
      ]
     },
     "execution_count": 59,
     "metadata": {},
     "output_type": "execute_result"
    }
   ],
   "source": [
    "dir(c)"
   ]
  },
  {
   "cell_type": "code",
   "execution_count": 60,
   "id": "5dd4bd87",
   "metadata": {},
   "outputs": [
    {
     "name": "stdout",
     "output_type": "stream",
     "text": [
      "<__main__.Car object at 0x7fdb126cdd60>\n"
     ]
    }
   ],
   "source": [
    "print(c)"
   ]
  },
  {
   "cell_type": "code",
   "execution_count": 61,
   "id": "208927b4",
   "metadata": {},
   "outputs": [],
   "source": [
    "# All __method__ are the magic method of the class\n",
    "# we can override the magic method"
   ]
  },
  {
   "cell_type": "code",
   "execution_count": 62,
   "id": "bdf4256f",
   "metadata": {},
   "outputs": [],
   "source": [
    "class Car:\n",
    "    \n",
    "    #__new__ will call first and after it __init__ will call\n",
    "    def __new__(self,window,door,enginetype):\n",
    "        print(\"The object has started getting initalized\")\n",
    "    \n",
    "    \n",
    "    def __init__(self,window,door,enginetype):\n",
    "        self.windows = window\n",
    "        self.doors = door\n",
    "        self.enginetypes = enginetype\n",
    "    #override __str__\n",
    "    def __str__(self):\n",
    "        return \"The object has been initialized\"\n",
    "    \n",
    "    def __sizeof__(self):\n",
    "        return \"The size of object\"\n",
    "    \n",
    "    def drive(self):\n",
    "        print(\"The person drive the car\")"
   ]
  },
  {
   "cell_type": "code",
   "execution_count": 63,
   "id": "4c771857",
   "metadata": {},
   "outputs": [
    {
     "name": "stdout",
     "output_type": "stream",
     "text": [
      "The object has started getting initalized\n"
     ]
    }
   ],
   "source": [
    "c = Car(3,3,'disel')"
   ]
  },
  {
   "cell_type": "code",
   "execution_count": 64,
   "id": "5658eeef",
   "metadata": {},
   "outputs": [
    {
     "name": "stdout",
     "output_type": "stream",
     "text": [
      "None\n"
     ]
    }
   ],
   "source": [
    "print(c)"
   ]
  },
  {
   "cell_type": "code",
   "execution_count": 65,
   "id": "357ba38c",
   "metadata": {},
   "outputs": [
    {
     "data": {
      "text/plain": [
       "16"
      ]
     },
     "execution_count": 65,
     "metadata": {},
     "output_type": "execute_result"
    }
   ],
   "source": [
    "c.__sizeof__()   # 32 BYTE OF SIZE"
   ]
  },
  {
   "cell_type": "markdown",
   "id": "840eac40",
   "metadata": {},
   "source": [
    "# Inheritance\n"
   ]
  },
  {
   "cell_type": "code",
   "execution_count": 66,
   "id": "c927379a",
   "metadata": {},
   "outputs": [],
   "source": [
    "## All the class variables are public\n",
    "## protected: _, private: __\n",
    "## Car Blueprint\n",
    "class Car:\n",
    "    def __init__(self,window,door,enginetype):\n",
    "        self.windows = window\n",
    "        self.doors = door\n",
    "        self.enginetypes = enginetype\n",
    "        \n",
    "    def drive(self):\n",
    "        print(\"The person drive the car.\")"
   ]
  },
  {
   "cell_type": "code",
   "execution_count": 67,
   "id": "31240b87",
   "metadata": {},
   "outputs": [],
   "source": [
    "car = Car(3,4,'diesel')"
   ]
  },
  {
   "cell_type": "code",
   "execution_count": 68,
   "id": "2bcb4bd7",
   "metadata": {},
   "outputs": [
    {
     "data": {
      "text/plain": [
       "['__class__',\n",
       " '__delattr__',\n",
       " '__dict__',\n",
       " '__dir__',\n",
       " '__doc__',\n",
       " '__eq__',\n",
       " '__format__',\n",
       " '__ge__',\n",
       " '__getattribute__',\n",
       " '__gt__',\n",
       " '__hash__',\n",
       " '__init__',\n",
       " '__init_subclass__',\n",
       " '__le__',\n",
       " '__lt__',\n",
       " '__module__',\n",
       " '__ne__',\n",
       " '__new__',\n",
       " '__reduce__',\n",
       " '__reduce_ex__',\n",
       " '__repr__',\n",
       " '__setattr__',\n",
       " '__sizeof__',\n",
       " '__str__',\n",
       " '__subclasshook__',\n",
       " '__weakref__',\n",
       " 'doors',\n",
       " 'drive',\n",
       " 'enginetypes',\n",
       " 'windows']"
      ]
     },
     "execution_count": 68,
     "metadata": {},
     "output_type": "execute_result"
    }
   ],
   "source": [
    "dir(car)"
   ]
  },
  {
   "cell_type": "code",
   "execution_count": 69,
   "id": "731d460c",
   "metadata": {},
   "outputs": [
    {
     "data": {
      "text/plain": [
       "3"
      ]
     },
     "execution_count": 69,
     "metadata": {},
     "output_type": "execute_result"
    }
   ],
   "source": [
    "car.windows"
   ]
  },
  {
   "cell_type": "code",
   "execution_count": 70,
   "id": "dd771bbe",
   "metadata": {},
   "outputs": [
    {
     "data": {
      "text/plain": [
       "'diesel'"
      ]
     },
     "execution_count": 70,
     "metadata": {},
     "output_type": "execute_result"
    }
   ],
   "source": [
    "car.enginetypes"
   ]
  },
  {
   "cell_type": "code",
   "execution_count": 71,
   "id": "3b7bfb1b",
   "metadata": {},
   "outputs": [
    {
     "name": "stdout",
     "output_type": "stream",
     "text": [
      "The person drive the car.\n"
     ]
    }
   ],
   "source": [
    "car.drive()"
   ]
  },
  {
   "cell_type": "code",
   "execution_count": 72,
   "id": "a3bc172e",
   "metadata": {},
   "outputs": [],
   "source": [
    "class Maruti(Car):\n",
    "    def __init__(self,window,door,enginetype,enableai):\n",
    "        super().__init__(window,door,enginetype)  # parent init\n",
    "        self.enableais = enableai\n",
    "        \n",
    "    def selfdriving(self):\n",
    "        print(\"Maruti support self driving.\")"
   ]
  },
  {
   "cell_type": "code",
   "execution_count": 73,
   "id": "806ab218",
   "metadata": {},
   "outputs": [],
   "source": [
    "mauriti5 = Maruti(5,5,\"diesel\",True)"
   ]
  },
  {
   "cell_type": "code",
   "execution_count": 74,
   "id": "5267a6fc",
   "metadata": {},
   "outputs": [
    {
     "data": {
      "text/plain": [
       "['__class__',\n",
       " '__delattr__',\n",
       " '__dict__',\n",
       " '__dir__',\n",
       " '__doc__',\n",
       " '__eq__',\n",
       " '__format__',\n",
       " '__ge__',\n",
       " '__getattribute__',\n",
       " '__gt__',\n",
       " '__hash__',\n",
       " '__init__',\n",
       " '__init_subclass__',\n",
       " '__le__',\n",
       " '__lt__',\n",
       " '__module__',\n",
       " '__ne__',\n",
       " '__new__',\n",
       " '__reduce__',\n",
       " '__reduce_ex__',\n",
       " '__repr__',\n",
       " '__setattr__',\n",
       " '__sizeof__',\n",
       " '__str__',\n",
       " '__subclasshook__',\n",
       " '__weakref__',\n",
       " 'doors',\n",
       " 'drive',\n",
       " 'enableais',\n",
       " 'enginetypes',\n",
       " 'selfdriving',\n",
       " 'windows']"
      ]
     },
     "execution_count": 74,
     "metadata": {},
     "output_type": "execute_result"
    }
   ],
   "source": [
    "dir(mauriti5)"
   ]
  },
  {
   "cell_type": "code",
   "execution_count": 75,
   "id": "c2087221",
   "metadata": {},
   "outputs": [
    {
     "data": {
      "text/plain": [
       "5"
      ]
     },
     "execution_count": 75,
     "metadata": {},
     "output_type": "execute_result"
    }
   ],
   "source": [
    "mauriti5.windows"
   ]
  },
  {
   "cell_type": "code",
   "execution_count": 76,
   "id": "d82d3981",
   "metadata": {},
   "outputs": [
    {
     "data": {
      "text/plain": [
       "True"
      ]
     },
     "execution_count": 76,
     "metadata": {},
     "output_type": "execute_result"
    }
   ],
   "source": [
    "mauriti5.enableais"
   ]
  },
  {
   "cell_type": "code",
   "execution_count": 77,
   "id": "f10b63b1",
   "metadata": {},
   "outputs": [
    {
     "name": "stdout",
     "output_type": "stream",
     "text": [
      "The person drive the car.\n"
     ]
    }
   ],
   "source": [
    "mauriti5.drive()"
   ]
  },
  {
   "cell_type": "markdown",
   "id": "71bc716a",
   "metadata": {},
   "source": [
    "## Multiple Inheritance"
   ]
  },
  {
   "cell_type": "code",
   "execution_count": 78,
   "id": "8a32f4a6",
   "metadata": {},
   "outputs": [],
   "source": [
    "class A:\n",
    "    def method1(self):\n",
    "        print(\"A class method is called\")"
   ]
  },
  {
   "cell_type": "code",
   "execution_count": 79,
   "id": "a851b414",
   "metadata": {},
   "outputs": [],
   "source": [
    "class B(A):\n",
    "    def method1(self):\n",
    "        print(\"B class method is called\")\n",
    "            \n",
    "    def method2(self):\n",
    "        print(\"B class method2 is called\")"
   ]
  },
  {
   "cell_type": "code",
   "execution_count": 80,
   "id": "2192ecfb",
   "metadata": {},
   "outputs": [],
   "source": [
    "class C(A):\n",
    "    def method1(self):\n",
    "        print(\"C class method is called\")"
   ]
  },
  {
   "cell_type": "code",
   "execution_count": 81,
   "id": "ff0db04d",
   "metadata": {},
   "outputs": [],
   "source": [
    "class D(B,C):  # multiple inheritance,one class is inherit from two or more base class\n",
    "    def method1(self):\n",
    "        print(\"D class method is called\")"
   ]
  },
  {
   "cell_type": "code",
   "execution_count": 82,
   "id": "68622afe",
   "metadata": {},
   "outputs": [],
   "source": [
    "d = D()"
   ]
  },
  {
   "cell_type": "code",
   "execution_count": 83,
   "id": "3b6bd56b",
   "metadata": {},
   "outputs": [
    {
     "name": "stdout",
     "output_type": "stream",
     "text": [
      "D class method is called\n"
     ]
    }
   ],
   "source": [
    "d.method1()"
   ]
  },
  {
   "cell_type": "code",
   "execution_count": 84,
   "id": "df303431",
   "metadata": {},
   "outputs": [
    {
     "name": "stdout",
     "output_type": "stream",
     "text": [
      "B class method2 is called\n"
     ]
    }
   ],
   "source": [
    "d.method2()"
   ]
  },
  {
   "cell_type": "code",
   "execution_count": 85,
   "id": "8a09230a",
   "metadata": {},
   "outputs": [
    {
     "name": "stdout",
     "output_type": "stream",
     "text": [
      "B class method is called\n"
     ]
    }
   ],
   "source": [
    "# But if we have same method in all class; how to called parent method in mutliple inheritance\n",
    "B.method1(d)"
   ]
  },
  {
   "cell_type": "code",
   "execution_count": 86,
   "id": "bb976c12",
   "metadata": {},
   "outputs": [
    {
     "name": "stdout",
     "output_type": "stream",
     "text": [
      "A class method is called\n"
     ]
    }
   ],
   "source": [
    "A.method1(d)"
   ]
  },
  {
   "cell_type": "code",
   "execution_count": 87,
   "id": "5161bb14",
   "metadata": {},
   "outputs": [
    {
     "name": "stdout",
     "output_type": "stream",
     "text": [
      "C class method is called\n"
     ]
    }
   ],
   "source": [
    "C.method1(d)"
   ]
  },
  {
   "cell_type": "raw",
   "id": "e15aec35",
   "metadata": {},
   "source": [
    "# What if we donot want to call seperate method for each class,so then we have to define it is child class i.e D in this example"
   ]
  },
  {
   "cell_type": "raw",
   "id": "06f75697",
   "metadata": {},
   "source": [
    "class D(B,C): \n",
    "    def method1(self):\n",
    "        print(\"D class method is called\")\n",
    "        C.method1(self)\n",
    "        B.method1(self)\n",
    "        A.method1(self)"
   ]
  },
  {
   "cell_type": "code",
   "execution_count": 88,
   "id": "edd9afb8",
   "metadata": {},
   "outputs": [],
   "source": [
    "d1 = D()"
   ]
  },
  {
   "cell_type": "code",
   "execution_count": 89,
   "id": "a3106df4",
   "metadata": {},
   "outputs": [
    {
     "name": "stdout",
     "output_type": "stream",
     "text": [
      "D class method is called\n"
     ]
    }
   ],
   "source": [
    "d1.method1()"
   ]
  },
  {
   "cell_type": "markdown",
   "id": "8c5fec0b",
   "metadata": {},
   "source": [
    "### MultiLevel Inheritance"
   ]
  },
  {
   "cell_type": "code",
   "execution_count": 90,
   "id": "34bcbd23",
   "metadata": {},
   "outputs": [],
   "source": [
    "class A:\n",
    "    def method1(self):\n",
    "        print(\"Class A Method\")"
   ]
  },
  {
   "cell_type": "code",
   "execution_count": 91,
   "id": "7a7e27cb",
   "metadata": {},
   "outputs": [],
   "source": [
    "class B(A):\n",
    "    def method1(self):\n",
    "        print(\"Class B Method\")"
   ]
  },
  {
   "cell_type": "code",
   "execution_count": 92,
   "id": "5ad4fcfb",
   "metadata": {},
   "outputs": [],
   "source": [
    "class C(B):\n",
    "    def method1(self):\n",
    "        print(\"Class C Method\")"
   ]
  },
  {
   "cell_type": "code",
   "execution_count": 93,
   "id": "e19b8c1e",
   "metadata": {},
   "outputs": [],
   "source": [
    "c = C()"
   ]
  },
  {
   "cell_type": "code",
   "execution_count": 94,
   "id": "a556472d",
   "metadata": {},
   "outputs": [
    {
     "name": "stdout",
     "output_type": "stream",
     "text": [
      "Class C Method\n"
     ]
    }
   ],
   "source": [
    "c.method1()"
   ]
  },
  {
   "cell_type": "code",
   "execution_count": 95,
   "id": "a9750a78",
   "metadata": {},
   "outputs": [
    {
     "name": "stdout",
     "output_type": "stream",
     "text": [
      "Class A Method\n"
     ]
    }
   ],
   "source": [
    "A.method1(c)"
   ]
  },
  {
   "cell_type": "code",
   "execution_count": 96,
   "id": "60a65ae0",
   "metadata": {},
   "outputs": [],
   "source": [
    "class C(B):\n",
    "    def method1(self):\n",
    "        print(\"Class C Method\")\n",
    "        B.method1(self)\n",
    "        A.method1(self)"
   ]
  },
  {
   "cell_type": "code",
   "execution_count": 97,
   "id": "7c8a5762",
   "metadata": {},
   "outputs": [],
   "source": [
    "c1 = C()"
   ]
  },
  {
   "cell_type": "code",
   "execution_count": 98,
   "id": "a5373d49",
   "metadata": {},
   "outputs": [
    {
     "name": "stdout",
     "output_type": "stream",
     "text": [
      "Class C Method\n",
      "Class B Method\n",
      "Class A Method\n"
     ]
    }
   ],
   "source": [
    "c1.method1()"
   ]
  },
  {
   "cell_type": "markdown",
   "id": "c2bb33f5",
   "metadata": {},
   "source": [
    "# Asynchronous Execution(Parallel Execution) With Thread"
   ]
  },
  {
   "cell_type": "code",
   "execution_count": 99,
   "id": "156a8c78",
   "metadata": {},
   "outputs": [],
   "source": [
    "# Process: To open notepad is an example of process.\n",
    "# Thread: Inside process, we can perform various sub-task like to open new file,save file, type some text on notepad are the examples of threads in a process."
   ]
  },
  {
   "cell_type": "code",
   "execution_count": 100,
   "id": "c3bf0beb",
   "metadata": {},
   "outputs": [],
   "source": [
    "import time\n",
    "from concurrent.futures import ThreadPoolExecutor\n",
    "\n",
    "def returnnumber(a):\n",
    "    time.sleep(1)\n",
    "    return a"
   ]
  },
  {
   "cell_type": "code",
   "execution_count": 101,
   "id": "a7c21c2f",
   "metadata": {},
   "outputs": [
    {
     "data": {
      "text/plain": [
       "12"
      ]
     },
     "execution_count": 101,
     "metadata": {},
     "output_type": "execute_result"
    }
   ],
   "source": [
    "returnnumber(12)"
   ]
  },
  {
   "cell_type": "code",
   "execution_count": 102,
   "id": "4ae0a4eb",
   "metadata": {},
   "outputs": [
    {
     "name": "stdout",
     "output_type": "stream",
     "text": [
      "Count: 0\n",
      "Count: 1\n",
      "Count: 2\n",
      "Count: 3\n",
      "Count: 4\n",
      "Count: 5\n",
      "Count: 6\n",
      "Count: 7\n",
      "Count: 8\n",
      "Count: 9\n",
      "Count: 10\n",
      "Count: 11\n",
      "Count: 12\n",
      "Count: 13\n",
      "Count: 14\n",
      "Count: 15\n",
      "Count: 16\n",
      "Count: 17\n",
      "Count: 18\n",
      "Count: 19\n",
      "Count: 20\n",
      "Count: 21\n",
      "Count: 22\n",
      "Count: 23\n",
      "Count: 24\n",
      "Count: 25\n",
      "Count: 26\n",
      "Count: 27\n",
      "Count: 28\n",
      "Count: 29\n",
      "Count: 30\n",
      "Count: 31\n",
      "Count: 32\n",
      "Count: 33\n",
      "Count: 34\n",
      "Count: 35\n",
      "Count: 36\n",
      "Count: 37\n",
      "Count: 38\n",
      "Count: 39\n",
      "Count: 40\n",
      "Count: 41\n",
      "Count: 42\n",
      "Count: 43\n",
      "Count: 44\n",
      "Count: 45\n",
      "Count: 46\n",
      "Count: 47\n",
      "Count: 48\n",
      "Count: 49\n",
      "Count: 50\n",
      "Count: 51\n",
      "Count: 52\n",
      "Count: 53\n",
      "Count: 54\n",
      "Count: 55\n",
      "Count: 56\n",
      "Count: 57\n",
      "Count: 58\n",
      "Count: 59\n",
      "Count: 60\n",
      "Count: 61\n",
      "Count: 62\n",
      "Count: 63\n",
      "Count: 64\n",
      "Count: 65\n",
      "Count: 66\n",
      "Count: 67\n",
      "Count: 68\n",
      "Count: 69\n",
      "Count: 70\n",
      "Count: 71\n",
      "Count: 72\n",
      "Count: 73\n",
      "Count: 74\n",
      "Count: 75\n",
      "Count: 76\n",
      "Count: 77\n",
      "Count: 78\n",
      "Count: 79\n",
      "Count: 80\n",
      "Count: 81\n",
      "Count: 82\n",
      "Count: 83\n",
      "Count: 84\n",
      "Count: 85\n",
      "Count: 86\n",
      "Count: 87\n",
      "Count: 88\n",
      "Count: 89\n",
      "Count: 90\n",
      "Count: 91\n",
      "Count: 92\n",
      "Count: 93\n",
      "Count: 94\n",
      "Count: 95\n",
      "Count: 96\n",
      "Count: 97\n",
      "Count: 98\n",
      "Count: 99\n",
      "The total time is :20.03300929069519\n"
     ]
    }
   ],
   "source": [
    "start=time.time()\n",
    "with ThreadPoolExecutor(max_workers=5) as executor:\n",
    "    for result in executor.map(returnnumber,range(100)):\n",
    "        print(\"Count: {0}\".format(result))\n",
    "print(\"The total time is :{0}\".format(time.time()-start))"
   ]
  },
  {
   "cell_type": "markdown",
   "id": "c28431e5",
   "metadata": {},
   "source": [
    "# Zip Function - Parellel Iteration\n",
    "In Data preprocessing, we will use zip functions to do preprocessing task efficently.\n",
    "\n",
    "- Iterate through mulitple iterables.\n",
    "- It is an iterable so we can use for loop,next() etc.\n",
    "- Parallel iteration through multiple iterables"
   ]
  },
  {
   "cell_type": "code",
   "execution_count": 103,
   "id": "cf8801b9",
   "metadata": {},
   "outputs": [],
   "source": [
    "lst1 = [\"Riddhi\",\"Prem\",\"Dipen\"]\n",
    "lst2 = ['Shrestha','Shresth','Rana']"
   ]
  },
  {
   "cell_type": "code",
   "execution_count": 104,
   "id": "b7ca65d4",
   "metadata": {},
   "outputs": [
    {
     "name": "stdout",
     "output_type": "stream",
     "text": [
      "Riddhi\n",
      "Prem\n",
      "Dipen\n"
     ]
    }
   ],
   "source": [
    "for i in lst1:\n",
    "    print(i)"
   ]
  },
  {
   "cell_type": "code",
   "execution_count": 105,
   "id": "75d71861",
   "metadata": {},
   "outputs": [],
   "source": [
    "output = zip(lst1,lst2)"
   ]
  },
  {
   "cell_type": "code",
   "execution_count": 106,
   "id": "ff391163",
   "metadata": {},
   "outputs": [
    {
     "data": {
      "text/plain": [
       "<zip at 0x7fdb2c0e3080>"
      ]
     },
     "execution_count": 106,
     "metadata": {},
     "output_type": "execute_result"
    }
   ],
   "source": [
    "output"
   ]
  },
  {
   "cell_type": "code",
   "execution_count": 107,
   "id": "d54b133a",
   "metadata": {},
   "outputs": [
    {
     "data": {
      "text/plain": [
       "[('Riddhi', 'Shrestha'), ('Prem', 'Shresth'), ('Dipen', 'Rana')]"
      ]
     },
     "execution_count": 107,
     "metadata": {},
     "output_type": "execute_result"
    }
   ],
   "source": [
    "list(output)"
   ]
  },
  {
   "cell_type": "code",
   "execution_count": 108,
   "id": "fe7bb045",
   "metadata": {},
   "outputs": [
    {
     "ename": "StopIteration",
     "evalue": "",
     "output_type": "error",
     "traceback": [
      "\u001b[0;31m---------------------------------------------------------------------------\u001b[0m",
      "\u001b[0;31mStopIteration\u001b[0m                             Traceback (most recent call last)",
      "\u001b[0;32m/tmp/ipykernel_7540/1121823091.py\u001b[0m in \u001b[0;36m<module>\u001b[0;34m\u001b[0m\n\u001b[1;32m      1\u001b[0m \u001b[0;31m## Zip object is an iterator\u001b[0m\u001b[0;34m\u001b[0m\u001b[0;34m\u001b[0m\u001b[0;34m\u001b[0m\u001b[0m\n\u001b[0;32m----> 2\u001b[0;31m \u001b[0mnext\u001b[0m\u001b[0;34m(\u001b[0m\u001b[0moutput\u001b[0m\u001b[0;34m)\u001b[0m\u001b[0;34m\u001b[0m\u001b[0;34m\u001b[0m\u001b[0m\n\u001b[0m",
      "\u001b[0;31mStopIteration\u001b[0m: "
     ]
    }
   ],
   "source": [
    "## Zip object is an iterator\n",
    "next(output)"
   ]
  },
  {
   "cell_type": "code",
   "execution_count": 109,
   "id": "3676393d",
   "metadata": {},
   "outputs": [],
   "source": [
    "for i,j in output:\n",
    "    print(i,j)"
   ]
  },
  {
   "cell_type": "code",
   "execution_count": 110,
   "id": "048feec6",
   "metadata": {},
   "outputs": [],
   "source": [
    "# What if we have more than 2 list i.e 3 list for example\n",
    "lst1 = [\"Riddhi\",\"Prem\",\"Dipen\"]\n",
    "lst2 = ['Shrestha','Shresth','Rana']\n",
    "lst3 = ['Lalbandi','Sarlahi','Amlekhgunj']"
   ]
  },
  {
   "cell_type": "code",
   "execution_count": 111,
   "id": "37e19a8f",
   "metadata": {},
   "outputs": [
    {
     "name": "stdout",
     "output_type": "stream",
     "text": [
      "Riddhi Shrestha Lalbandi\n",
      "Prem Shresth Sarlahi\n",
      "Dipen Rana Amlekhgunj\n"
     ]
    }
   ],
   "source": [
    "output = zip(lst1,lst2,lst3)\n",
    "for i,j,k in output:\n",
    "    print(i,j,k)"
   ]
  },
  {
   "cell_type": "code",
   "execution_count": 112,
   "id": "678e0a9f",
   "metadata": {},
   "outputs": [],
   "source": [
    "# What happen if we have not same number of elements in list\n",
    "lst1 = [\"Riddhi\",\"Prem\",\"Dipen\",\"Richa\"]\n",
    "lst2 = ['Shrestha','Shresth','Rana']\n",
    "lst3 = ['Lalbandi','Sarlahi','Amlekhgunj']"
   ]
  },
  {
   "cell_type": "code",
   "execution_count": 113,
   "id": "d584e261",
   "metadata": {},
   "outputs": [
    {
     "name": "stdout",
     "output_type": "stream",
     "text": [
      "Riddhi Shrestha Lalbandi\n",
      "Prem Shresth Sarlahi\n",
      "Dipen Rana Amlekhgunj\n"
     ]
    }
   ],
   "source": [
    "# It will skip extra iterable so that it will successfully zip the lists\n",
    "output = zip(lst1,lst2,lst3)\n",
    "for i,j,k in output:\n",
    "    print(i,j,k)"
   ]
  },
  {
   "cell_type": "code",
   "execution_count": 114,
   "id": "f21e761f",
   "metadata": {},
   "outputs": [],
   "source": [
    "dict1 = {'name':'Riddhi Shrestha','address':'Lalbandi','phone':'9851237737'}\n",
    "dict2 = {'name':'Dipen Rana','address':'Amlekhgunj','phone':'9845558424'}"
   ]
  },
  {
   "cell_type": "code",
   "execution_count": 115,
   "id": "b59bc035",
   "metadata": {},
   "outputs": [],
   "source": [
    "dictionary=zip(dict1.items(),dict2.items())"
   ]
  },
  {
   "cell_type": "code",
   "execution_count": 116,
   "id": "70697142",
   "metadata": {},
   "outputs": [
    {
     "data": {
      "text/plain": [
       "{'name': 'Riddhi Shrestha', 'address': 'Lalbandi', 'phone': '9851237737'}"
      ]
     },
     "execution_count": 116,
     "metadata": {},
     "output_type": "execute_result"
    }
   ],
   "source": [
    "dict1"
   ]
  },
  {
   "cell_type": "code",
   "execution_count": 117,
   "id": "2564340e",
   "metadata": {},
   "outputs": [
    {
     "name": "stdout",
     "output_type": "stream",
     "text": [
      "name Riddhi Shrestha\n",
      "Dipen Rana Dipen Rana\n",
      "address Lalbandi\n",
      "Amlekhgunj Amlekhgunj\n",
      "phone 9851237737\n",
      "9845558424 9845558424\n"
     ]
    }
   ],
   "source": [
    "for (i,j),(i2,j2) in dictionary:\n",
    "    print(i,j)\n",
    "    print(j2,j2)"
   ]
  }
 ],
 "metadata": {
  "kernelspec": {
   "display_name": "Python 3 (ipykernel)",
   "language": "python",
   "name": "python3"
  },
  "language_info": {
   "codemirror_mode": {
    "name": "ipython",
    "version": 3
   },
   "file_extension": ".py",
   "mimetype": "text/x-python",
   "name": "python",
   "nbconvert_exporter": "python",
   "pygments_lexer": "ipython3",
   "version": "3.8.12"
  }
 },
 "nbformat": 4,
 "nbformat_minor": 5
}
