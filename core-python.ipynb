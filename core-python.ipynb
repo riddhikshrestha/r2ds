{
 "cells": [
  {
   "cell_type": "markdown",
   "id": "8bd5e55c",
   "metadata": {},
   "source": [
    "# Variables and Data Structures in Python\n",
    "- Boolean\n",
    "- Boolean and Logical Operators\n",
    "- Comparision operators\n",
    "- Data structures (Lists, Dictionaries, Tuples, Sets)"
   ]
  },
  {
   "cell_type": "markdown",
   "id": "d83d1fc3",
   "metadata": {},
   "source": [
    "## Boolean Variables\n",
    "Boolean values are the two constant objects i.e. **True** and **False**.\n",
    "\n",
    "They are used to represent truth values. In numeric context, they behave like the integers **1** and **0** respectively for True and False.\n",
    "\n",
    "The built-in function **bool()** can be used to cast any value to a Boolean, if the value can be interpreted as a truth value."
   ]
  },
  {
   "cell_type": "code",
   "execution_count": 1,
   "id": "82daedab",
   "metadata": {},
   "outputs": [
    {
     "data": {
      "text/plain": [
       "True"
      ]
     },
     "execution_count": 1,
     "metadata": {},
     "output_type": "execute_result"
    }
   ],
   "source": [
    "True"
   ]
  },
  {
   "cell_type": "code",
   "execution_count": 2,
   "id": "081596e7",
   "metadata": {},
   "outputs": [
    {
     "data": {
      "text/plain": [
       "False"
      ]
     },
     "execution_count": 2,
     "metadata": {},
     "output_type": "execute_result"
    }
   ],
   "source": [
    "False"
   ]
  },
  {
   "cell_type": "code",
   "execution_count": 3,
   "id": "38b96de1",
   "metadata": {},
   "outputs": [
    {
     "name": "stdout",
     "output_type": "stream",
     "text": [
      "True False\n"
     ]
    }
   ],
   "source": [
    "print(True,False)"
   ]
  },
  {
   "cell_type": "code",
   "execution_count": 4,
   "id": "3f9d9103",
   "metadata": {},
   "outputs": [
    {
     "data": {
      "text/plain": [
       "bool"
      ]
     },
     "execution_count": 4,
     "metadata": {},
     "output_type": "execute_result"
    }
   ],
   "source": [
    "type(True)"
   ]
  },
  {
   "cell_type": "code",
   "execution_count": 5,
   "id": "9f311b65",
   "metadata": {},
   "outputs": [],
   "source": [
    "demo_str = \"Data Science is continuous learning process.\""
   ]
  },
  {
   "cell_type": "code",
   "execution_count": 6,
   "id": "4520b1a6",
   "metadata": {},
   "outputs": [
    {
     "data": {
      "text/plain": [
       "False"
      ]
     },
     "execution_count": 6,
     "metadata": {},
     "output_type": "execute_result"
    }
   ],
   "source": [
    "demo_str.isalnum() # check if all char are numbers"
   ]
  },
  {
   "cell_type": "code",
   "execution_count": 7,
   "id": "388b9273",
   "metadata": {},
   "outputs": [
    {
     "data": {
      "text/plain": [
       "False"
      ]
     },
     "execution_count": 7,
     "metadata": {},
     "output_type": "execute_result"
    }
   ],
   "source": [
    "demo_str.isalpha() # check if all char in the string are alphabetic"
   ]
  },
  {
   "cell_type": "code",
   "execution_count": 8,
   "id": "476a822e",
   "metadata": {},
   "outputs": [
    {
     "data": {
      "text/plain": [
       "False"
      ]
     },
     "execution_count": 8,
     "metadata": {},
     "output_type": "execute_result"
    }
   ],
   "source": [
    "demo_str.isdigit() # check if string contain digits"
   ]
  },
  {
   "cell_type": "code",
   "execution_count": 9,
   "id": "0286333a",
   "metadata": {},
   "outputs": [
    {
     "data": {
      "text/plain": [
       "False"
      ]
     },
     "execution_count": 9,
     "metadata": {},
     "output_type": "execute_result"
    }
   ],
   "source": [
    "demo_str.istitle() # if string contain title words"
   ]
  },
  {
   "cell_type": "code",
   "execution_count": 10,
   "id": "0fd6be14",
   "metadata": {},
   "outputs": [
    {
     "name": "stdout",
     "output_type": "stream",
     "text": [
      "False\n"
     ]
    }
   ],
   "source": [
    "print(demo_str.isupper()) # if string contain upper case"
   ]
  },
  {
   "cell_type": "code",
   "execution_count": 11,
   "id": "2d1ed65b",
   "metadata": {},
   "outputs": [
    {
     "data": {
      "text/plain": [
       "False"
      ]
     },
     "execution_count": 11,
     "metadata": {},
     "output_type": "execute_result"
    }
   ],
   "source": [
    "demo_str.islower()"
   ]
  },
  {
   "cell_type": "code",
   "execution_count": 12,
   "id": "e0031304",
   "metadata": {},
   "outputs": [
    {
     "data": {
      "text/plain": [
       "False"
      ]
     },
     "execution_count": 12,
     "metadata": {},
     "output_type": "execute_result"
    }
   ],
   "source": [
    "demo_str.startswith('d')"
   ]
  },
  {
   "cell_type": "code",
   "execution_count": 13,
   "id": "921a9c00",
   "metadata": {},
   "outputs": [
    {
     "data": {
      "text/plain": [
       "True"
      ]
     },
     "execution_count": 13,
     "metadata": {},
     "output_type": "execute_result"
    }
   ],
   "source": [
    "demo_str.endswith('.')"
   ]
  },
  {
   "cell_type": "markdown",
   "id": "e9993f4d",
   "metadata": {},
   "source": [
    "## Boolean and Logical Operators"
   ]
  },
  {
   "cell_type": "code",
   "execution_count": 14,
   "id": "ca1095c4",
   "metadata": {},
   "outputs": [
    {
     "data": {
      "text/plain": [
       "True"
      ]
     },
     "execution_count": 14,
     "metadata": {},
     "output_type": "execute_result"
    }
   ],
   "source": [
    "True and True"
   ]
  },
  {
   "cell_type": "code",
   "execution_count": 15,
   "id": "309bf723",
   "metadata": {},
   "outputs": [
    {
     "data": {
      "text/plain": [
       "False"
      ]
     },
     "execution_count": 15,
     "metadata": {},
     "output_type": "execute_result"
    }
   ],
   "source": [
    "True and False"
   ]
  },
  {
   "cell_type": "code",
   "execution_count": 16,
   "id": "a8fe2dd8",
   "metadata": {},
   "outputs": [
    {
     "data": {
      "text/plain": [
       "True"
      ]
     },
     "execution_count": 16,
     "metadata": {},
     "output_type": "execute_result"
    }
   ],
   "source": [
    "True or True"
   ]
  },
  {
   "cell_type": "code",
   "execution_count": 17,
   "id": "a3b9ae7c",
   "metadata": {},
   "outputs": [
    {
     "data": {
      "text/plain": [
       "True"
      ]
     },
     "execution_count": 17,
     "metadata": {},
     "output_type": "execute_result"
    }
   ],
   "source": [
    "True or False"
   ]
  },
  {
   "cell_type": "code",
   "execution_count": 18,
   "id": "7829cf3e",
   "metadata": {},
   "outputs": [
    {
     "data": {
      "text/plain": [
       "True"
      ]
     },
     "execution_count": 18,
     "metadata": {},
     "output_type": "execute_result"
    }
   ],
   "source": [
    "str1 = 'Welcome'\n",
    "str2 = 'scholar'\n",
    "\n",
    "\n",
    "str1.isalpha() or str2.isnum() #True or False"
   ]
  },
  {
   "cell_type": "markdown",
   "id": "83e01985",
   "metadata": {},
   "source": [
    "## Lists\n",
    "A list is a data structure , that is a mutable or changeable, ordered sequence of elements. \n",
    "\n",
    "Each element or value that is inside of a list is called as item.\n",
    "\n",
    "Lists are defined by having values between square brackets[]."
   ]
  },
  {
   "cell_type": "code",
   "execution_count": 19,
   "id": "e1d337cd",
   "metadata": {},
   "outputs": [
    {
     "data": {
      "text/plain": [
       "list"
      ]
     },
     "execution_count": 19,
     "metadata": {},
     "output_type": "execute_result"
    }
   ],
   "source": [
    "type([])"
   ]
  },
  {
   "cell_type": "code",
   "execution_count": 20,
   "id": "5124dd08",
   "metadata": {},
   "outputs": [
    {
     "data": {
      "text/plain": [
       "list"
      ]
     },
     "execution_count": 20,
     "metadata": {},
     "output_type": "execute_result"
    }
   ],
   "source": [
    "a = []\n",
    "type(a)"
   ]
  },
  {
   "cell_type": "code",
   "execution_count": 21,
   "id": "70b693e8",
   "metadata": {},
   "outputs": [
    {
     "data": {
      "text/plain": [
       "list"
      ]
     },
     "execution_count": 21,
     "metadata": {},
     "output_type": "execute_result"
    }
   ],
   "source": [
    "b = list()\n",
    "type(b)"
   ]
  },
  {
   "cell_type": "code",
   "execution_count": 22,
   "id": "37dee88d",
   "metadata": {},
   "outputs": [
    {
     "data": {
      "text/plain": [
       "list"
      ]
     },
     "execution_count": 22,
     "metadata": {},
     "output_type": "execute_result"
    }
   ],
   "source": [
    "c = ['Data Science',40,'Nepal']\n",
    "type(c)"
   ]
  },
  {
   "cell_type": "markdown",
   "id": "669318f1",
   "metadata": {},
   "source": [
    "### Indexing in list"
   ]
  },
  {
   "cell_type": "code",
   "execution_count": 23,
   "id": "4b719b87",
   "metadata": {},
   "outputs": [
    {
     "data": {
      "text/plain": [
       "'Data Science'"
      ]
     },
     "execution_count": 23,
     "metadata": {},
     "output_type": "execute_result"
    }
   ],
   "source": [
    "c[0]"
   ]
  },
  {
   "cell_type": "markdown",
   "id": "e734f5a6",
   "metadata": {},
   "source": [
    "### Append\n",
    "append is used to add elements in the list"
   ]
  },
  {
   "cell_type": "code",
   "execution_count": 24,
   "id": "91801941",
   "metadata": {},
   "outputs": [],
   "source": [
    "c.append(34.45)"
   ]
  },
  {
   "cell_type": "code",
   "execution_count": 25,
   "id": "808d86d0",
   "metadata": {},
   "outputs": [
    {
     "data": {
      "text/plain": [
       "['Data Science', 40, 'Nepal', 34.45]"
      ]
     },
     "execution_count": 25,
     "metadata": {},
     "output_type": "execute_result"
    }
   ],
   "source": [
    "c"
   ]
  },
  {
   "cell_type": "code",
   "execution_count": 26,
   "id": "4225552c",
   "metadata": {},
   "outputs": [],
   "source": [
    "c.append([\"Data Scientist\",\"Code\"])  # Nested List"
   ]
  },
  {
   "cell_type": "code",
   "execution_count": 27,
   "id": "b8cfd13c",
   "metadata": {},
   "outputs": [
    {
     "data": {
      "text/plain": [
       "['Data Science', 40, 'Nepal', 34.45, ['Data Scientist', 'Code']]"
      ]
     },
     "execution_count": 27,
     "metadata": {},
     "output_type": "execute_result"
    }
   ],
   "source": [
    "c"
   ]
  },
  {
   "cell_type": "markdown",
   "id": "ce5980d6",
   "metadata": {},
   "source": [
    "### Insert\n",
    "insert in a specific order"
   ]
  },
  {
   "cell_type": "code",
   "execution_count": 28,
   "id": "64441bf4",
   "metadata": {},
   "outputs": [],
   "source": [
    "c.insert(2,\"Riddi K. Shrestha\")"
   ]
  },
  {
   "cell_type": "code",
   "execution_count": 29,
   "id": "81ac4d1e",
   "metadata": {},
   "outputs": [
    {
     "data": {
      "text/plain": [
       "['Data Science',\n",
       " 40,\n",
       " 'Riddi K. Shrestha',\n",
       " 'Nepal',\n",
       " 34.45,\n",
       " ['Data Scientist', 'Code']]"
      ]
     },
     "execution_count": 29,
     "metadata": {},
     "output_type": "execute_result"
    }
   ],
   "source": [
    "c"
   ]
  },
  {
   "cell_type": "code",
   "execution_count": 30,
   "id": "ee0a26ed",
   "metadata": {},
   "outputs": [
    {
     "data": {
      "text/plain": [
       "'Riddi K. Shrestha'"
      ]
     },
     "execution_count": 30,
     "metadata": {},
     "output_type": "execute_result"
    }
   ],
   "source": [
    "c[2]"
   ]
  },
  {
   "cell_type": "code",
   "execution_count": 31,
   "id": "146dccb1",
   "metadata": {},
   "outputs": [
    {
     "data": {
      "text/plain": [
       "['Data Science',\n",
       " 40,\n",
       " 'Riddi K. Shrestha',\n",
       " 'Nepal',\n",
       " 34.45,\n",
       " ['Data Scientist', 'Code']]"
      ]
     },
     "execution_count": 31,
     "metadata": {},
     "output_type": "execute_result"
    }
   ],
   "source": [
    "c[:]"
   ]
  },
  {
   "cell_type": "code",
   "execution_count": 32,
   "id": "ec178a2e",
   "metadata": {},
   "outputs": [
    {
     "data": {
      "text/plain": [
       "[40, 'Riddi K. Shrestha', 'Nepal', 34.45, ['Data Scientist', 'Code']]"
      ]
     },
     "execution_count": 32,
     "metadata": {},
     "output_type": "execute_result"
    }
   ],
   "source": [
    "c[1:]"
   ]
  },
  {
   "cell_type": "code",
   "execution_count": 33,
   "id": "b683ba73",
   "metadata": {},
   "outputs": [
    {
     "data": {
      "text/plain": [
       "['Riddi K. Shrestha', 'Nepal']"
      ]
     },
     "execution_count": 33,
     "metadata": {},
     "output_type": "execute_result"
    }
   ],
   "source": [
    "c[2:4]"
   ]
  },
  {
   "cell_type": "markdown",
   "id": "c6e5b113",
   "metadata": {},
   "source": [
    "### Extend\n",
    "add list of element as separate element\n",
    "\n",
    "it will not create multi nested list as it did with **append()** above"
   ]
  },
  {
   "cell_type": "code",
   "execution_count": 34,
   "id": "dfbc52e7",
   "metadata": {},
   "outputs": [],
   "source": [
    "d = [1,2,3,4,5,6]"
   ]
  },
  {
   "cell_type": "code",
   "execution_count": 35,
   "id": "8ee14f9f",
   "metadata": {},
   "outputs": [],
   "source": [
    "d.extend(['Riddhi','Kumar','Shrestha'])"
   ]
  },
  {
   "cell_type": "code",
   "execution_count": 36,
   "id": "f17ce891",
   "metadata": {},
   "outputs": [
    {
     "data": {
      "text/plain": [
       "[1, 2, 3, 4, 5, 6, 'Riddhi', 'Kumar', 'Shrestha']"
      ]
     },
     "execution_count": 36,
     "metadata": {},
     "output_type": "execute_result"
    }
   ],
   "source": [
    "d"
   ]
  },
  {
   "cell_type": "markdown",
   "id": "368d987a",
   "metadata": {},
   "source": [
    "### Operations in List"
   ]
  },
  {
   "cell_type": "code",
   "execution_count": 37,
   "id": "4121965c",
   "metadata": {},
   "outputs": [],
   "source": [
    "e = [1,2,3,4,5,6]"
   ]
  },
  {
   "cell_type": "code",
   "execution_count": 38,
   "id": "53074387",
   "metadata": {},
   "outputs": [
    {
     "data": {
      "text/plain": [
       "[1, 2, 3, 4, 5, 6, 1, 2, 3, 4, 5, 6, 1, 2, 3, 4, 5, 6]"
      ]
     },
     "execution_count": 38,
     "metadata": {},
     "output_type": "execute_result"
    }
   ],
   "source": [
    "e*3               # 3 times appended list "
   ]
  },
  {
   "cell_type": "code",
   "execution_count": 39,
   "id": "c7339d86",
   "metadata": {},
   "outputs": [
    {
     "data": {
      "text/plain": [
       "21"
      ]
     },
     "execution_count": 39,
     "metadata": {},
     "output_type": "execute_result"
    }
   ],
   "source": [
    "sum(e)"
   ]
  },
  {
   "cell_type": "code",
   "execution_count": 40,
   "id": "16e05682",
   "metadata": {},
   "outputs": [
    {
     "data": {
      "text/plain": [
       "6"
      ]
     },
     "execution_count": 40,
     "metadata": {},
     "output_type": "execute_result"
    }
   ],
   "source": [
    "max(e)"
   ]
  },
  {
   "cell_type": "code",
   "execution_count": 41,
   "id": "ced1d7ff",
   "metadata": {},
   "outputs": [
    {
     "data": {
      "text/plain": [
       "1"
      ]
     },
     "execution_count": 41,
     "metadata": {},
     "output_type": "execute_result"
    }
   ],
   "source": [
    "min(e)"
   ]
  },
  {
   "cell_type": "markdown",
   "id": "6ac008b0",
   "metadata": {},
   "source": [
    "#### Pop() method"
   ]
  },
  {
   "cell_type": "code",
   "execution_count": 42,
   "id": "33e0feff",
   "metadata": {},
   "outputs": [
    {
     "data": {
      "text/plain": [
       "6"
      ]
     },
     "execution_count": 42,
     "metadata": {},
     "output_type": "execute_result"
    }
   ],
   "source": [
    "e.pop()   # it will pop(delete) last element in the list"
   ]
  },
  {
   "cell_type": "code",
   "execution_count": 43,
   "id": "d66dc576",
   "metadata": {},
   "outputs": [
    {
     "data": {
      "text/plain": [
       "[1, 2, 3, 4, 5]"
      ]
     },
     "execution_count": 43,
     "metadata": {},
     "output_type": "execute_result"
    }
   ],
   "source": [
    "e"
   ]
  },
  {
   "cell_type": "code",
   "execution_count": 44,
   "id": "5be8f7c9",
   "metadata": {},
   "outputs": [
    {
     "data": {
      "text/plain": [
       "2"
      ]
     },
     "execution_count": 44,
     "metadata": {},
     "output_type": "execute_result"
    }
   ],
   "source": [
    "e.pop(1)"
   ]
  },
  {
   "cell_type": "code",
   "execution_count": 45,
   "id": "20dd0510",
   "metadata": {},
   "outputs": [
    {
     "data": {
      "text/plain": [
       "[1, 3, 4, 5]"
      ]
     },
     "execution_count": 45,
     "metadata": {},
     "output_type": "execute_result"
    }
   ],
   "source": [
    "e"
   ]
  },
  {
   "cell_type": "markdown",
   "id": "ad2556e7",
   "metadata": {},
   "source": [
    "#### count()\n",
    "count total occurance of element in the list"
   ]
  },
  {
   "cell_type": "code",
   "execution_count": 46,
   "id": "91e8042a",
   "metadata": {},
   "outputs": [
    {
     "data": {
      "text/plain": [
       "2"
      ]
     },
     "execution_count": 46,
     "metadata": {},
     "output_type": "execute_result"
    }
   ],
   "source": [
    "f = [0,2,1,3,4,4,5,9,2,3,1]\n",
    "f.count(1)"
   ]
  },
  {
   "cell_type": "markdown",
   "id": "86a7215a",
   "metadata": {},
   "source": [
    "#### length\n",
    "calculate total length of list"
   ]
  },
  {
   "cell_type": "code",
   "execution_count": 47,
   "id": "dd869573",
   "metadata": {},
   "outputs": [
    {
     "data": {
      "text/plain": [
       "11"
      ]
     },
     "execution_count": 47,
     "metadata": {},
     "output_type": "execute_result"
    }
   ],
   "source": [
    "len(f)"
   ]
  },
  {
   "cell_type": "markdown",
   "id": "8e2e3045",
   "metadata": {},
   "source": [
    "#### index()\n",
    "returns the index of occurence\n",
    "\n",
    "start and end index are not required parameters"
   ]
  },
  {
   "cell_type": "code",
   "execution_count": 48,
   "id": "4f683649",
   "metadata": {},
   "outputs": [
    {
     "data": {
      "text/plain": [
       "2"
      ]
     },
     "execution_count": 48,
     "metadata": {},
     "output_type": "execute_result"
    }
   ],
   "source": [
    "f.index(1,0,7)  # value, start_index,end_index to be search"
   ]
  },
  {
   "cell_type": "markdown",
   "id": "91c7200d",
   "metadata": {},
   "source": [
    "# Set\n",
    "A set is an unordered collection data type that is iterable, mutable and has no duplicate elements.\n",
    "\n",
    "Python's set class represents the mathemetical notation of a set. That is based on a data structure known as a hash table.\n",
    "\n",
    "Set element is defined in **{}** curly brackets."
   ]
  },
  {
   "cell_type": "code",
   "execution_count": 49,
   "id": "7b8d6c8d",
   "metadata": {},
   "outputs": [
    {
     "name": "stdout",
     "output_type": "stream",
     "text": [
      "set()\n",
      "<class 'set'>\n"
     ]
    }
   ],
   "source": [
    "set_one = set()\n",
    "print(set_one)\n",
    "print(type(set_one))"
   ]
  },
  {
   "cell_type": "code",
   "execution_count": 50,
   "id": "8a5df196",
   "metadata": {},
   "outputs": [
    {
     "name": "stdout",
     "output_type": "stream",
     "text": [
      "{'Deep Learning', 'Computer Vision', 'NLP', 'Machine Learning'}\n"
     ]
    },
    {
     "data": {
      "text/plain": [
       "set"
      ]
     },
     "execution_count": 50,
     "metadata": {},
     "output_type": "execute_result"
    }
   ],
   "source": [
    "set_one = {\"Machine Learning\",\"Computer Vision\",\"Deep Learning\",\"NLP\",\"Computer Vision\",\"NLP\"}\n",
    "print(set_one)  # You can see that results only print unique value in set, dublicate is shown once\n",
    "type(set_one)"
   ]
  },
  {
   "cell_type": "markdown",
   "id": "fc3f32b2",
   "metadata": {},
   "source": [
    "## Inbuild functions"
   ]
  },
  {
   "cell_type": "code",
   "execution_count": 51,
   "id": "c1f59046",
   "metadata": {},
   "outputs": [
    {
     "ename": "TypeError",
     "evalue": "'set' object is not subscriptable",
     "output_type": "error",
     "traceback": [
      "\u001b[0;31m---------------------------------------------------------------------------\u001b[0m",
      "\u001b[0;31mTypeError\u001b[0m                                 Traceback (most recent call last)",
      "\u001b[0;32m/tmp/ipykernel_3035/2298123911.py\u001b[0m in \u001b[0;36m<module>\u001b[0;34m\u001b[0m\n\u001b[1;32m      1\u001b[0m \u001b[0;31m# Indexing is not available in set\u001b[0m\u001b[0;34m\u001b[0m\u001b[0;34m\u001b[0m\u001b[0;34m\u001b[0m\u001b[0m\n\u001b[0;32m----> 2\u001b[0;31m \u001b[0mset_one\u001b[0m\u001b[0;34m[\u001b[0m\u001b[0;36m0\u001b[0m\u001b[0;34m]\u001b[0m\u001b[0;34m\u001b[0m\u001b[0;34m\u001b[0m\u001b[0m\n\u001b[0m",
      "\u001b[0;31mTypeError\u001b[0m: 'set' object is not subscriptable"
     ]
    }
   ],
   "source": [
    "# Indexing is not available in set\n",
    "set_one[0]"
   ]
  },
  {
   "cell_type": "code",
   "execution_count": null,
   "id": "dddfe289",
   "metadata": {},
   "outputs": [],
   "source": [
    "set_one.add(\"Supervised Learning\")\n",
    "\n",
    "print(set_one)"
   ]
  },
  {
   "cell_type": "code",
   "execution_count": null,
   "id": "bb14aa41",
   "metadata": {},
   "outputs": [],
   "source": [
    "set1 = {1,2,3}\n",
    "set2 = {1,2,3,4}"
   ]
  },
  {
   "cell_type": "code",
   "execution_count": null,
   "id": "4924dab7",
   "metadata": {},
   "outputs": [],
   "source": [
    "# Set intersection\n",
    "set1.intersection(set2)"
   ]
  },
  {
   "cell_type": "code",
   "execution_count": null,
   "id": "238e69b9",
   "metadata": {},
   "outputs": [],
   "source": [
    "# Set union\n",
    "set1.union(set2)"
   ]
  },
  {
   "cell_type": "code",
   "execution_count": null,
   "id": "ac3a11b6",
   "metadata": {},
   "outputs": [],
   "source": [
    "# Set difference\n",
    "set2.difference(set1)"
   ]
  },
  {
   "cell_type": "code",
   "execution_count": null,
   "id": "cb451188",
   "metadata": {},
   "outputs": [],
   "source": [
    "print(set2)    # Not updated in set2"
   ]
  },
  {
   "cell_type": "code",
   "execution_count": null,
   "id": "60f936ef",
   "metadata": {},
   "outputs": [],
   "source": [
    "## Difference update; which is used to update in the set\n",
    "set2.difference_update(set1)"
   ]
  },
  {
   "cell_type": "code",
   "execution_count": null,
   "id": "19b37f8b",
   "metadata": {},
   "outputs": [],
   "source": [
    "print(set2)"
   ]
  },
  {
   "cell_type": "markdown",
   "id": "d6eb0f16",
   "metadata": {},
   "source": [
    "# Dictionary\n",
    "A dictionary is a collection which is unordered, changeable and indexed.\n",
    "\n",
    "In python, dictionaries are written with curly brackets and they have **keys and values**."
   ]
  },
  {
   "cell_type": "code",
   "execution_count": null,
   "id": "06de17e8",
   "metadata": {},
   "outputs": [],
   "source": [
    "dic = {}\n",
    "type(dic)"
   ]
  },
  {
   "cell_type": "code",
   "execution_count": null,
   "id": "b69ebb13",
   "metadata": {},
   "outputs": [],
   "source": [
    "dic = {1,2,3,4,5}\n",
    "type(dic)"
   ]
  },
  {
   "cell_type": "code",
   "execution_count": null,
   "id": "f3bdb64d",
   "metadata": {},
   "outputs": [],
   "source": [
    "dic = {\"one\":1,\"two\":2,\"three\":3,\"four\":4}\n",
    "type(dic)"
   ]
  },
  {
   "cell_type": "code",
   "execution_count": null,
   "id": "98e4c6da",
   "metadata": {},
   "outputs": [],
   "source": [
    "#dic = dict()\n",
    "type(dict())"
   ]
  },
  {
   "cell_type": "code",
   "execution_count": null,
   "id": "76f90ee9",
   "metadata": {},
   "outputs": [],
   "source": [
    "# Access the item values based on keys\n",
    "dic[\"one\"]"
   ]
  },
  {
   "cell_type": "code",
   "execution_count": null,
   "id": "7c4b24f5",
   "metadata": {},
   "outputs": [],
   "source": [
    "# Loop throughout the dictionary keys\n",
    "for x in dic:\n",
    "    print(x)"
   ]
  },
  {
   "cell_type": "code",
   "execution_count": null,
   "id": "81dd293d",
   "metadata": {},
   "outputs": [],
   "source": [
    "# Loop thooughout the dictionary values\n",
    "for x in dic.values():\n",
    "    print(x)"
   ]
  },
  {
   "cell_type": "code",
   "execution_count": null,
   "id": "ee4ae737",
   "metadata": {},
   "outputs": [],
   "source": [
    "# Loop thoroughout and check both keys and values\n",
    "for x in dic.items():\n",
    "    print(x)"
   ]
  },
  {
   "cell_type": "code",
   "execution_count": 52,
   "id": "5e685ff2",
   "metadata": {},
   "outputs": [
    {
     "ename": "NameError",
     "evalue": "name 'dic' is not defined",
     "output_type": "error",
     "traceback": [
      "\u001b[0;31m---------------------------------------------------------------------------\u001b[0m",
      "\u001b[0;31mNameError\u001b[0m                                 Traceback (most recent call last)",
      "\u001b[0;32m/tmp/ipykernel_3035/1565564576.py\u001b[0m in \u001b[0;36m<module>\u001b[0;34m\u001b[0m\n\u001b[1;32m      1\u001b[0m \u001b[0;31m# Loop throughout the dictionary to show value respective of its keys\u001b[0m\u001b[0;34m\u001b[0m\u001b[0;34m\u001b[0m\u001b[0;34m\u001b[0m\u001b[0m\n\u001b[0;32m----> 2\u001b[0;31m \u001b[0;32mfor\u001b[0m \u001b[0mx\u001b[0m \u001b[0;32min\u001b[0m \u001b[0mdic\u001b[0m\u001b[0;34m:\u001b[0m\u001b[0;34m\u001b[0m\u001b[0;34m\u001b[0m\u001b[0m\n\u001b[0m\u001b[1;32m      3\u001b[0m     \u001b[0mprint\u001b[0m\u001b[0;34m(\u001b[0m\u001b[0mx\u001b[0m\u001b[0;34m,\u001b[0m \u001b[0;34m':'\u001b[0m\u001b[0;34m,\u001b[0m\u001b[0mdic\u001b[0m\u001b[0;34m[\u001b[0m\u001b[0mx\u001b[0m\u001b[0;34m]\u001b[0m\u001b[0;34m)\u001b[0m\u001b[0;34m\u001b[0m\u001b[0;34m\u001b[0m\u001b[0m\n",
      "\u001b[0;31mNameError\u001b[0m: name 'dic' is not defined"
     ]
    }
   ],
   "source": [
    "# Loop throughout the dictionary to show value respective of its keys\n",
    "for x in dic:\n",
    "    print(x, ':',dic[x])"
   ]
  },
  {
   "cell_type": "code",
   "execution_count": null,
   "id": "2eeec61c",
   "metadata": {},
   "outputs": [],
   "source": [
    "# Add item in the dictionary\n",
    "dic['five'] = 5"
   ]
  },
  {
   "cell_type": "code",
   "execution_count": null,
   "id": "52826115",
   "metadata": {},
   "outputs": [],
   "source": [
    "dic"
   ]
  },
  {
   "cell_type": "code",
   "execution_count": null,
   "id": "6f093f1d",
   "metadata": {},
   "outputs": [],
   "source": [
    "# try to enter value on existing key\n",
    "dic['one']=6"
   ]
  },
  {
   "cell_type": "code",
   "execution_count": null,
   "id": "408c10ac",
   "metadata": {},
   "outputs": [],
   "source": [
    "dic"
   ]
  },
  {
   "cell_type": "markdown",
   "id": "d220aa66",
   "metadata": {},
   "source": [
    "### Nested Dictionary"
   ]
  },
  {
   "cell_type": "code",
   "execution_count": 53,
   "id": "3931b149",
   "metadata": {},
   "outputs": [
    {
     "name": "stdout",
     "output_type": "stream",
     "text": [
      "{'program1': {'progamming1': 'Assembly Language'}, 'program2': {'programming2': 'C'}, 'program3': {'programming3': 'Python'}}\n"
     ]
    }
   ],
   "source": [
    "dic1 = {'progamming1':'Assembly Language'}\n",
    "dic2 = {'programming2':'C'}\n",
    "dic3 = {'programming3':'Python'}\n",
    "\n",
    "programming_type = {'program1':dic1,'program2':dic2,'program3':dic3}\n",
    "print(programming_type)"
   ]
  },
  {
   "cell_type": "code",
   "execution_count": 54,
   "id": "bdae9d5b",
   "metadata": {},
   "outputs": [
    {
     "name": "stdout",
     "output_type": "stream",
     "text": [
      "{'progamming1': 'Assembly Language'}\n"
     ]
    }
   ],
   "source": [
    "# Indexing\n",
    "print(programming_type['program1'])"
   ]
  },
  {
   "cell_type": "code",
   "execution_count": 55,
   "id": "f0f0290b",
   "metadata": {},
   "outputs": [
    {
     "name": "stdout",
     "output_type": "stream",
     "text": [
      "Assembly Language\n"
     ]
    }
   ],
   "source": [
    "print(programming_type['program1']['progamming1'])"
   ]
  },
  {
   "cell_type": "markdown",
   "id": "d3f37542",
   "metadata": {},
   "source": [
    "# Tuple\n",
    "Tuple is not mutable data structure.\n",
    "\n",
    "To declare tuple elements, use **()** brackets"
   ]
  },
  {
   "cell_type": "code",
   "execution_count": 56,
   "id": "8538ebf8",
   "metadata": {},
   "outputs": [
    {
     "data": {
      "text/plain": [
       "tuple"
      ]
     },
     "execution_count": 56,
     "metadata": {},
     "output_type": "execute_result"
    }
   ],
   "source": [
    "t = tuple()\n",
    "type(t)"
   ]
  },
  {
   "cell_type": "code",
   "execution_count": 57,
   "id": "c5767c8f",
   "metadata": {},
   "outputs": [
    {
     "data": {
      "text/plain": [
       "tuple"
      ]
     },
     "execution_count": 57,
     "metadata": {},
     "output_type": "execute_result"
    }
   ],
   "source": [
    "t = ()\n",
    "type(t)"
   ]
  },
  {
   "cell_type": "code",
   "execution_count": 58,
   "id": "9401d83d",
   "metadata": {},
   "outputs": [],
   "source": [
    "t = (\"Machine Learning\",\"Deep Learning\",\"NLP\")"
   ]
  },
  {
   "cell_type": "code",
   "execution_count": 59,
   "id": "f56d37ef",
   "metadata": {},
   "outputs": [
    {
     "data": {
      "text/plain": [
       "'Machine Learning'"
      ]
     },
     "execution_count": 59,
     "metadata": {},
     "output_type": "execute_result"
    }
   ],
   "source": [
    "t[0]"
   ]
  },
  {
   "cell_type": "code",
   "execution_count": 60,
   "id": "1ca26145",
   "metadata": {},
   "outputs": [
    {
     "ename": "TypeError",
     "evalue": "'tuple' object does not support item assignment",
     "output_type": "error",
     "traceback": [
      "\u001b[0;31m---------------------------------------------------------------------------\u001b[0m",
      "\u001b[0;31mTypeError\u001b[0m                                 Traceback (most recent call last)",
      "\u001b[0;32m/tmp/ipykernel_3035/3037148371.py\u001b[0m in \u001b[0;36m<module>\u001b[0;34m\u001b[0m\n\u001b[1;32m      1\u001b[0m \u001b[0;31m# Try to replace first element\u001b[0m\u001b[0;34m\u001b[0m\u001b[0;34m\u001b[0m\u001b[0;34m\u001b[0m\u001b[0m\n\u001b[0;32m----> 2\u001b[0;31m \u001b[0mt\u001b[0m\u001b[0;34m[\u001b[0m\u001b[0;36m0\u001b[0m\u001b[0;34m]\u001b[0m \u001b[0;34m=\u001b[0m \u001b[0;34m'LSTM'\u001b[0m\u001b[0;34m\u001b[0m\u001b[0;34m\u001b[0m\u001b[0m\n\u001b[0m\u001b[1;32m      3\u001b[0m \u001b[0;34m\u001b[0m\u001b[0m\n\u001b[1;32m      4\u001b[0m \u001b[0;31m# We cannot perform item assignment in tuple but we can replace whole tuple\u001b[0m\u001b[0;34m\u001b[0m\u001b[0;34m\u001b[0m\u001b[0;34m\u001b[0m\u001b[0m\n",
      "\u001b[0;31mTypeError\u001b[0m: 'tuple' object does not support item assignment"
     ]
    }
   ],
   "source": [
    "# Try to replace first element\n",
    "t[0] = 'LSTM'\n",
    "\n",
    "# We cannot perform item assignment in tuple but we can replace whole tuple"
   ]
  },
  {
   "cell_type": "code",
   "execution_count": null,
   "id": "50ecf3eb",
   "metadata": {},
   "outputs": [],
   "source": [
    "# TUPLE is used in such program where definition of item is required for just one time. You cann't perform operation on it."
   ]
  },
  {
   "cell_type": "code",
   "execution_count": null,
   "id": "78431670",
   "metadata": {},
   "outputs": [],
   "source": [
    "print(type(t))\n",
    "print(t)"
   ]
  },
  {
   "cell_type": "markdown",
   "id": "f7763428",
   "metadata": {},
   "source": [
    "### Inbuild function"
   ]
  },
  {
   "cell_type": "code",
   "execution_count": null,
   "id": "1931adfd",
   "metadata": {},
   "outputs": [],
   "source": [
    "t.count('NLP')"
   ]
  },
  {
   "cell_type": "code",
   "execution_count": null,
   "id": "7cfd1049",
   "metadata": {},
   "outputs": [],
   "source": [
    "t.index('NLP')"
   ]
  },
  {
   "cell_type": "markdown",
   "id": "ee8ea9ff",
   "metadata": {},
   "source": [
    "# Function\n",
    "- Why required functions.\n",
    "- Function definition\n",
    "- Positional and Keywords arguments in functions"
   ]
  },
  {
   "cell_type": "code",
   "execution_count": 61,
   "id": "46e121aa",
   "metadata": {},
   "outputs": [
    {
     "name": "stdout",
     "output_type": "stream",
     "text": [
      "Enter your number? 12\n",
      "The number is even.\n"
     ]
    }
   ],
   "source": [
    "# suppose we have to write logic to check given number is odd or even\n",
    "number = int(input(\"Enter your number? \"))\n",
    "\n",
    "if number %2 == 0:\n",
    "    print(\"The number is even.\")\n",
    "else:\n",
    "    print(\"The number is odd.\")"
   ]
  },
  {
   "cell_type": "code",
   "execution_count": 62,
   "id": "080a245c",
   "metadata": {},
   "outputs": [],
   "source": [
    "def even_odd(number):\n",
    "    if number %2 == 0:\n",
    "        print(\"The number is even.\")\n",
    "    else:\n",
    "        print(\"The number is odd.\")"
   ]
  },
  {
   "cell_type": "code",
   "execution_count": 63,
   "id": "55d68fdd",
   "metadata": {},
   "outputs": [
    {
     "name": "stdout",
     "output_type": "stream",
     "text": [
      "The number is even.\n"
     ]
    }
   ],
   "source": [
    "even_odd(24)"
   ]
  },
  {
   "cell_type": "code",
   "execution_count": 64,
   "id": "319a9d9f",
   "metadata": {},
   "outputs": [],
   "source": [
    "# Difference between print vs return\n",
    "def hello_coder():\n",
    "    print(\"Welcome to coding session\")"
   ]
  },
  {
   "cell_type": "code",
   "execution_count": 65,
   "id": "a7c0f12f",
   "metadata": {},
   "outputs": [
    {
     "name": "stdout",
     "output_type": "stream",
     "text": [
      "Welcome to coding session\n"
     ]
    }
   ],
   "source": [
    "hello_coder()"
   ]
  },
  {
   "cell_type": "code",
   "execution_count": 66,
   "id": "d2f04e1d",
   "metadata": {},
   "outputs": [
    {
     "name": "stdout",
     "output_type": "stream",
     "text": [
      "Welcome to coding session\n"
     ]
    }
   ],
   "source": [
    "a = hello_coder()"
   ]
  },
  {
   "cell_type": "code",
   "execution_count": 67,
   "id": "a2cb2d1b",
   "metadata": {},
   "outputs": [
    {
     "name": "stdout",
     "output_type": "stream",
     "text": [
      "None\n"
     ]
    }
   ],
   "source": [
    "print(a)"
   ]
  },
  {
   "cell_type": "code",
   "execution_count": 68,
   "id": "b919001b",
   "metadata": {},
   "outputs": [],
   "source": [
    "# Here 'None' means that this function doesnot return anything"
   ]
  },
  {
   "cell_type": "code",
   "execution_count": 69,
   "id": "1c88305b",
   "metadata": {},
   "outputs": [],
   "source": [
    "def hello_coder():\n",
    "    return \"Welcome to coding session\""
   ]
  },
  {
   "cell_type": "code",
   "execution_count": 70,
   "id": "f4845cce",
   "metadata": {},
   "outputs": [],
   "source": [
    "a = hello_coder()"
   ]
  },
  {
   "cell_type": "code",
   "execution_count": 71,
   "id": "21008085",
   "metadata": {},
   "outputs": [
    {
     "name": "stdout",
     "output_type": "stream",
     "text": [
      "Welcome to coding session\n"
     ]
    }
   ],
   "source": [
    "print(a)"
   ]
  },
  {
   "cell_type": "code",
   "execution_count": 72,
   "id": "c4bb9733",
   "metadata": {},
   "outputs": [],
   "source": [
    "def add_num(n1,n2):\n",
    "    return n1+n2"
   ]
  },
  {
   "cell_type": "code",
   "execution_count": 73,
   "id": "a8d3870e",
   "metadata": {},
   "outputs": [],
   "source": [
    "sum=add_num(2,3)"
   ]
  },
  {
   "cell_type": "code",
   "execution_count": 74,
   "id": "43d8968d",
   "metadata": {},
   "outputs": [
    {
     "data": {
      "text/plain": [
       "5"
      ]
     },
     "execution_count": 74,
     "metadata": {},
     "output_type": "execute_result"
    }
   ],
   "source": [
    "sum"
   ]
  },
  {
   "cell_type": "code",
   "execution_count": 75,
   "id": "4346b966",
   "metadata": {},
   "outputs": [],
   "source": [
    "# Positional vs Keyword Argument\n",
    "\n",
    "# The parameter that define in function definition and if you didn't assign any value then it become positonal argument.\n",
    "# If we provide prameter in key and value pair then it is keyword argument.\n",
    "\n",
    "def my_information(name,age=27):\n",
    "    print(\"My name is {} and age is {} year.\".format(name,age))"
   ]
  },
  {
   "cell_type": "code",
   "execution_count": 76,
   "id": "9d21a408",
   "metadata": {},
   "outputs": [
    {
     "name": "stdout",
     "output_type": "stream",
     "text": [
      "My name is Riddhi and age is 27 year.\n"
     ]
    }
   ],
   "source": [
    "my_information(\"Riddhi\")"
   ]
  },
  {
   "cell_type": "code",
   "execution_count": 77,
   "id": "53ae761e",
   "metadata": {},
   "outputs": [
    {
     "ename": "TypeError",
     "evalue": "my_information() missing 1 required positional argument: 'name'",
     "output_type": "error",
     "traceback": [
      "\u001b[0;31m---------------------------------------------------------------------------\u001b[0m",
      "\u001b[0;31mTypeError\u001b[0m                                 Traceback (most recent call last)",
      "\u001b[0;32m/tmp/ipykernel_3035/659868352.py\u001b[0m in \u001b[0;36m<module>\u001b[0;34m\u001b[0m\n\u001b[0;32m----> 1\u001b[0;31m \u001b[0mmy_information\u001b[0m\u001b[0;34m(\u001b[0m\u001b[0;34m)\u001b[0m\u001b[0;34m\u001b[0m\u001b[0;34m\u001b[0m\u001b[0m\n\u001b[0m",
      "\u001b[0;31mTypeError\u001b[0m: my_information() missing 1 required positional argument: 'name'"
     ]
    }
   ],
   "source": [
    "my_information()"
   ]
  },
  {
   "cell_type": "code",
   "execution_count": 78,
   "id": "3fb1d156",
   "metadata": {},
   "outputs": [],
   "source": [
    "# Alternate way to define positonal and keyword arguments\n",
    "def my_data(*args,**kwargs):  # *args is positonal argument and **kwargs is keyword arguemnts\n",
    "    print(args)\n",
    "    print(kwargs)"
   ]
  },
  {
   "cell_type": "code",
   "execution_count": 79,
   "id": "13ca10a4",
   "metadata": {},
   "outputs": [
    {
     "name": "stdout",
     "output_type": "stream",
     "text": [
      "('Riddhi', 'Kumar', 'Shrestha')\n",
      "{'age': 27, 'address': 'LALBANDI'}\n"
     ]
    }
   ],
   "source": [
    "my_data(\"Riddhi\",\"Kumar\",\"Shrestha\",age=27,address='LALBANDI')"
   ]
  },
  {
   "cell_type": "code",
   "execution_count": 80,
   "id": "feadb725",
   "metadata": {},
   "outputs": [],
   "source": [
    "lst = ['Riddhi', 'Kumar', 'Shrestha']\n",
    "dict_args = {'age': 27, 'address': 'LALBANDI'}"
   ]
  },
  {
   "cell_type": "code",
   "execution_count": 81,
   "id": "df10ae26",
   "metadata": {},
   "outputs": [
    {
     "name": "stdout",
     "output_type": "stream",
     "text": [
      "('Riddhi', 'Kumar', 'Shrestha')\n",
      "{'age': 27, 'address': 'LALBANDI'}\n"
     ]
    }
   ],
   "source": [
    "#my_data(lst,dict_args)  # It will mismatch the parameters,it take both as args\n",
    "my_data(*lst,**dict_args)"
   ]
  },
  {
   "cell_type": "code",
   "execution_count": 82,
   "id": "220d79af",
   "metadata": {},
   "outputs": [],
   "source": [
    "# Return two values from function\n",
    "list1 = [1,2,3,4,5,6,7]"
   ]
  },
  {
   "cell_type": "code",
   "execution_count": 83,
   "id": "b0b9f614",
   "metadata": {},
   "outputs": [],
   "source": [
    "def oddevensum(list):\n",
    "    even_sum = 0\n",
    "    odd_sum = 0\n",
    "    for i in list:\n",
    "        if i %2 == 0:\n",
    "            even_sum +=i\n",
    "        else:\n",
    "            odd_sum +=i\n",
    "    return even_sum,odd_sum"
   ]
  },
  {
   "cell_type": "code",
   "execution_count": 84,
   "id": "f321cb95",
   "metadata": {},
   "outputs": [
    {
     "data": {
      "text/plain": [
       "(12, 16)"
      ]
     },
     "execution_count": 84,
     "metadata": {},
     "output_type": "execute_result"
    }
   ],
   "source": [
    "oddevensum(list1)"
   ]
  },
  {
   "cell_type": "markdown",
   "id": "b3b526d7",
   "metadata": {},
   "source": [
    "# Lambda Function\n",
    "anonymous function\n",
    "\n",
    "function with no name\n",
    "\n",
    "Lambda function is useful if function have single line of logic or expression"
   ]
  },
  {
   "cell_type": "code",
   "execution_count": 85,
   "id": "c93e4275",
   "metadata": {},
   "outputs": [],
   "source": [
    "def add(x,y):\n",
    "    return x+y"
   ]
  },
  {
   "cell_type": "code",
   "execution_count": 86,
   "id": "297535ab",
   "metadata": {},
   "outputs": [
    {
     "data": {
      "text/plain": [
       "9"
      ]
     },
     "execution_count": 86,
     "metadata": {},
     "output_type": "execute_result"
    }
   ],
   "source": [
    "add(4,5)"
   ]
  },
  {
   "cell_type": "code",
   "execution_count": 87,
   "id": "664a95e2",
   "metadata": {},
   "outputs": [],
   "source": [
    "# In the add function it just have single line logic to add two number so it is best to use lambda for such condition\n",
    "add = lambda x,y:x+y"
   ]
  },
  {
   "cell_type": "code",
   "execution_count": 88,
   "id": "a3738dba",
   "metadata": {},
   "outputs": [
    {
     "data": {
      "text/plain": [
       "9"
      ]
     },
     "execution_count": 88,
     "metadata": {},
     "output_type": "execute_result"
    }
   ],
   "source": [
    "add(4,5)"
   ]
  },
  {
   "cell_type": "code",
   "execution_count": 89,
   "id": "8a003236",
   "metadata": {},
   "outputs": [],
   "source": [
    "# Check if given number is even or not\n",
    "even2 = lambda x:x%2==0"
   ]
  },
  {
   "cell_type": "code",
   "execution_count": 90,
   "id": "d733b7ee",
   "metadata": {},
   "outputs": [
    {
     "data": {
      "text/plain": [
       "True"
      ]
     },
     "execution_count": 90,
     "metadata": {},
     "output_type": "execute_result"
    }
   ],
   "source": [
    "even2(4)"
   ]
  },
  {
   "cell_type": "code",
   "execution_count": 91,
   "id": "fae6d3fc",
   "metadata": {},
   "outputs": [],
   "source": [
    "# Addition of three numbers\n",
    "add = lambda x,y,z:x+y+z"
   ]
  },
  {
   "cell_type": "code",
   "execution_count": 92,
   "id": "f28044cc",
   "metadata": {},
   "outputs": [
    {
     "data": {
      "text/plain": [
       "12"
      ]
     },
     "execution_count": 92,
     "metadata": {},
     "output_type": "execute_result"
    }
   ],
   "source": [
    "add(3,4,5)"
   ]
  },
  {
   "cell_type": "markdown",
   "id": "c1a0c936",
   "metadata": {},
   "source": [
    "# MAP,FILTER,REDUCE"
   ]
  },
  {
   "cell_type": "markdown",
   "id": "9772485a",
   "metadata": {},
   "source": [
    "## Map Function\n",
    "map function is used to apply function to list of every element without using any loop or multiple iteration\n",
    "\n",
    "It is used to change to every element."
   ]
  },
  {
   "cell_type": "code",
   "execution_count": 93,
   "id": "e145d434",
   "metadata": {},
   "outputs": [],
   "source": [
    "def odd_even(number):\n",
    "    if number % 2 == 0:\n",
    "        return \"The number {} is even\".format(number)\n",
    "    else:\n",
    "        return \"The number {} is odd\".format(number)"
   ]
  },
  {
   "cell_type": "code",
   "execution_count": 94,
   "id": "72004047",
   "metadata": {},
   "outputs": [
    {
     "data": {
      "text/plain": [
       "'The number 23 is odd'"
      ]
     },
     "execution_count": 94,
     "metadata": {},
     "output_type": "execute_result"
    }
   ],
   "source": [
    "odd_even(23)"
   ]
  },
  {
   "cell_type": "code",
   "execution_count": 95,
   "id": "37659339",
   "metadata": {},
   "outputs": [],
   "source": [
    "# Suppose we want same function to list of element\n",
    "lst = [1,2,3,4,5,6,7,8,9,24,56,78]"
   ]
  },
  {
   "cell_type": "code",
   "execution_count": 96,
   "id": "f811f7d1",
   "metadata": {},
   "outputs": [
    {
     "data": {
      "text/plain": [
       "<map at 0x7fa04437d460>"
      ]
     },
     "execution_count": 96,
     "metadata": {},
     "output_type": "execute_result"
    }
   ],
   "source": [
    "map(odd_even,lst)  # lazzy loading technique: memory location "
   ]
  },
  {
   "cell_type": "code",
   "execution_count": 97,
   "id": "15ccc76d",
   "metadata": {},
   "outputs": [
    {
     "data": {
      "text/plain": [
       "['The number 1 is odd',\n",
       " 'The number 2 is even',\n",
       " 'The number 3 is odd',\n",
       " 'The number 4 is even',\n",
       " 'The number 5 is odd',\n",
       " 'The number 6 is even',\n",
       " 'The number 7 is odd',\n",
       " 'The number 8 is even',\n",
       " 'The number 9 is odd',\n",
       " 'The number 24 is even',\n",
       " 'The number 56 is even',\n",
       " 'The number 78 is even']"
      ]
     },
     "execution_count": 97,
     "metadata": {},
     "output_type": "execute_result"
    }
   ],
   "source": [
    "list(map(odd_even,lst))"
   ]
  },
  {
   "cell_type": "markdown",
   "id": "359047c0",
   "metadata": {},
   "source": [
    "## Filter Function\n",
    "Filter function filter the element from list according to function's logic, it will only return the exact result as list."
   ]
  },
  {
   "cell_type": "code",
   "execution_count": 98,
   "id": "ba44ad71",
   "metadata": {},
   "outputs": [],
   "source": [
    "def evenfun(number):\n",
    "    if number %2 == 0:\n",
    "        return True"
   ]
  },
  {
   "cell_type": "code",
   "execution_count": 99,
   "id": "2bf1aabc",
   "metadata": {},
   "outputs": [],
   "source": [
    "lst = [1,2,3,4,5,6,7,8,9,0]"
   ]
  },
  {
   "cell_type": "code",
   "execution_count": 100,
   "id": "0f46f894",
   "metadata": {},
   "outputs": [
    {
     "data": {
      "text/plain": [
       "[2, 4, 6, 8, 0]"
      ]
     },
     "execution_count": 100,
     "metadata": {},
     "output_type": "execute_result"
    }
   ],
   "source": [
    "list(filter(evenfun,lst))"
   ]
  },
  {
   "cell_type": "code",
   "execution_count": 101,
   "id": "0f397c10",
   "metadata": {},
   "outputs": [
    {
     "data": {
      "text/plain": [
       "[2, 4, 6, 8, 0]"
      ]
     },
     "execution_count": 101,
     "metadata": {},
     "output_type": "execute_result"
    }
   ],
   "source": [
    "# we can use lambda function instead of whole function to pass in filter.\n",
    "list(filter(lambda number:number%2==0,lst))"
   ]
  },
  {
   "cell_type": "code",
   "execution_count": 102,
   "id": "85cd346b",
   "metadata": {},
   "outputs": [
    {
     "data": {
      "text/plain": [
       "[False, True, False, True, False, True, False, True, False, True]"
      ]
     },
     "execution_count": 102,
     "metadata": {},
     "output_type": "execute_result"
    }
   ],
   "source": [
    "# Similarly for map function too\n",
    "list(map(lambda number:number%2==0,lst))"
   ]
  },
  {
   "cell_type": "code",
   "execution_count": 103,
   "id": "716c751b",
   "metadata": {},
   "outputs": [
    {
     "name": "stdout",
     "output_type": "stream",
     "text": [
      "[2, 6, 8, 6, 2]\n",
      "[4, 12, 16, 12, 4]\n"
     ]
    }
   ],
   "source": [
    "# Example\n",
    "nums = [3,2,6,8,6,2,9]\n",
    "\n",
    "evens = list(filter(lambda n:n%2==0,nums))\n",
    "print(evens)\n",
    "\n",
    "doubles = list(map(lambda n:n*2,evens))\n",
    "\n",
    "print(doubles)"
   ]
  },
  {
   "cell_type": "markdown",
   "id": "ae1d2c9e",
   "metadata": {},
   "source": [
    "## Reduce Function\n",
    "\n",
    "Instead of having multiple value, what if we want one value or aggregated value as result like sum of list of numbers, average of numbers etc"
   ]
  },
  {
   "cell_type": "code",
   "execution_count": 104,
   "id": "4ceb100d",
   "metadata": {},
   "outputs": [
    {
     "name": "stdout",
     "output_type": "stream",
     "text": [
      "48\n"
     ]
    }
   ],
   "source": [
    "from functools import reduce\n",
    "\n",
    "sum = reduce(lambda x,y:x+y,doubles)\n",
    "print(sum)"
   ]
  },
  {
   "cell_type": "markdown",
   "id": "1d6d111e",
   "metadata": {},
   "source": [
    "# Eval Function - Evaluating Expressions Dynamically\n",
    "Eval function evaluate python expression which are written as strings"
   ]
  },
  {
   "cell_type": "code",
   "execution_count": 105,
   "id": "cce3bd4e",
   "metadata": {},
   "outputs": [
    {
     "data": {
      "text/plain": [
       "49"
      ]
     },
     "execution_count": 105,
     "metadata": {},
     "output_type": "execute_result"
    }
   ],
   "source": [
    "# Python expression\n",
    "7*7"
   ]
  },
  {
   "cell_type": "code",
   "execution_count": 106,
   "id": "ec09cd2f",
   "metadata": {},
   "outputs": [
    {
     "data": {
      "text/plain": [
       "49"
      ]
     },
     "execution_count": 106,
     "metadata": {},
     "output_type": "execute_result"
    }
   ],
   "source": [
    "eval(\"7*7\")"
   ]
  },
  {
   "cell_type": "code",
   "execution_count": 107,
   "id": "8a37a471",
   "metadata": {},
   "outputs": [
    {
     "data": {
      "text/plain": [
       "27.333333333333332"
      ]
     },
     "execution_count": 107,
     "metadata": {},
     "output_type": "execute_result"
    }
   ],
   "source": [
    "eval(\"5*5+7/3\")"
   ]
  },
  {
   "cell_type": "code",
   "execution_count": 109,
   "id": "6d209c18",
   "metadata": {},
   "outputs": [
    {
     "name": "stdout",
     "output_type": "stream",
     "text": [
      "Enter the python expression5*5\n"
     ]
    },
    {
     "data": {
      "text/plain": [
       "25"
      ]
     },
     "execution_count": 109,
     "metadata": {},
     "output_type": "execute_result"
    }
   ],
   "source": [
    "eval(input(\"Enter the python expression\"))"
   ]
  },
  {
   "cell_type": "code",
   "execution_count": 110,
   "id": "9a6f5241",
   "metadata": {},
   "outputs": [],
   "source": [
    "def square_num(num):\n",
    "    return num**2"
   ]
  },
  {
   "cell_type": "code",
   "execution_count": 111,
   "id": "5aa6a981",
   "metadata": {},
   "outputs": [
    {
     "data": {
      "text/plain": [
       "4"
      ]
     },
     "execution_count": 111,
     "metadata": {},
     "output_type": "execute_result"
    }
   ],
   "source": [
    "eval(\"square_num(2)\")"
   ]
  },
  {
   "cell_type": "markdown",
   "id": "bfbdd723",
   "metadata": {},
   "source": [
    "### How does eval works?\n",
    "- Parse python expression\n",
    "- Compile into a byte code\n",
    "- Evalutate the python expression\n",
    "- It will return the result"
   ]
  },
  {
   "cell_type": "code",
   "execution_count": 112,
   "id": "48a6dc86",
   "metadata": {},
   "outputs": [],
   "source": [
    "# compile function will perform all the above steps\n",
    "var1 = compile(\"4*4\",\"<string>\",\"eval\")"
   ]
  },
  {
   "cell_type": "code",
   "execution_count": 113,
   "id": "3ce822de",
   "metadata": {},
   "outputs": [
    {
     "data": {
      "text/plain": [
       "<code object <module> at 0x7fa046cd59d0, file \"<string>\", line 1>"
      ]
     },
     "execution_count": 113,
     "metadata": {},
     "output_type": "execute_result"
    }
   ],
   "source": [
    "var1"
   ]
  },
  {
   "cell_type": "code",
   "execution_count": 114,
   "id": "abd20d59",
   "metadata": {},
   "outputs": [
    {
     "data": {
      "text/plain": [
       "16"
      ]
     },
     "execution_count": 114,
     "metadata": {},
     "output_type": "execute_result"
    }
   ],
   "source": [
    "eval(var1)"
   ]
  },
  {
   "cell_type": "code",
   "execution_count": 115,
   "id": "46817d8d",
   "metadata": {},
   "outputs": [
    {
     "data": {
      "text/plain": [
       "160"
      ]
     },
     "execution_count": 115,
     "metadata": {},
     "output_type": "execute_result"
    }
   ],
   "source": [
    "#### Globals variable\n",
    "x = 10\n",
    "eval(\"x+50+x**2\",{\"x\":x})"
   ]
  },
  {
   "cell_type": "code",
   "execution_count": 116,
   "id": "ae95b6c7",
   "metadata": {},
   "outputs": [
    {
     "data": {
      "text/plain": [
       "50"
      ]
     },
     "execution_count": 116,
     "metadata": {},
     "output_type": "execute_result"
    }
   ],
   "source": [
    "x = 20\n",
    "y = 30\n",
    "eval(\"x+y\",{\"x\":x,\"y\":y})"
   ]
  },
  {
   "cell_type": "code",
   "execution_count": 117,
   "id": "19341cb2",
   "metadata": {},
   "outputs": [
    {
     "data": {
      "text/plain": [
       "50"
      ]
     },
     "execution_count": 117,
     "metadata": {},
     "output_type": "execute_result"
    }
   ],
   "source": [
    "x = 20\n",
    "y = 30\n",
    "eval(\"x+y\")"
   ]
  },
  {
   "cell_type": "code",
   "execution_count": 118,
   "id": "a5c16b8a",
   "metadata": {},
   "outputs": [
    {
     "data": {
      "text/plain": [
       "600"
      ]
     },
     "execution_count": 118,
     "metadata": {},
     "output_type": "execute_result"
    }
   ],
   "source": [
    "#eval(\"expression\",{globals},{locals})\n",
    "eval(\"a+b+c\",{},{\"a\":100,\"b\":200,\"c\":300})"
   ]
  },
  {
   "cell_type": "code",
   "execution_count": 119,
   "id": "ab693ab0",
   "metadata": {},
   "outputs": [
    {
     "data": {
      "text/plain": [
       "True"
      ]
     },
     "execution_count": 119,
     "metadata": {},
     "output_type": "execute_result"
    }
   ],
   "source": [
    "a=100\n",
    "b=200\n",
    "eval(\"a<b\")"
   ]
  },
  {
   "cell_type": "markdown",
   "id": "9c6f0eed",
   "metadata": {},
   "source": [
    "# List Comprehension\n",
    "List comprehension provide a concise way to create lists. \n",
    "\n",
    "It consists of [] brackets containing an expression followed by a for clause,then zero or more for or if clauses.\n",
    "\n",
    "The expression can be anything, meaning you can put in all kinds of objects in lists."
   ]
  },
  {
   "cell_type": "code",
   "execution_count": 120,
   "id": "18cca35d",
   "metadata": {},
   "outputs": [],
   "source": [
    "lst1 = []\n",
    "def square_lst(lst):\n",
    "    for i in lst:\n",
    "        lst1.append(i*i)\n",
    "    return lst1"
   ]
  },
  {
   "cell_type": "code",
   "execution_count": 121,
   "id": "1ac0eced",
   "metadata": {},
   "outputs": [
    {
     "data": {
      "text/plain": [
       "[1, 4, 9, 16, 25, 36, 49]"
      ]
     },
     "execution_count": 121,
     "metadata": {},
     "output_type": "execute_result"
    }
   ],
   "source": [
    "square_lst([1,2,3,4,5,6,7])"
   ]
  },
  {
   "cell_type": "code",
   "execution_count": 122,
   "id": "c72ca412",
   "metadata": {},
   "outputs": [],
   "source": [
    "# TIME COMPLEXITY IS HIGH IN ABOVE LOGIC FOR DOING SIMPLE LOGIC"
   ]
  },
  {
   "cell_type": "code",
   "execution_count": 123,
   "id": "febeb56d",
   "metadata": {},
   "outputs": [],
   "source": [
    "lst = [1,2,3,4,5,6,7]"
   ]
  },
  {
   "cell_type": "code",
   "execution_count": 124,
   "id": "e96bba68",
   "metadata": {},
   "outputs": [
    {
     "data": {
      "text/plain": [
       "[1, 4, 9, 16, 25, 36, 49]"
      ]
     },
     "execution_count": 124,
     "metadata": {},
     "output_type": "execute_result"
    }
   ],
   "source": [
    "#[return_expression #for_clause]\n",
    "[i*i for i in lst]"
   ]
  },
  {
   "cell_type": "code",
   "execution_count": 125,
   "id": "972fd8b8",
   "metadata": {},
   "outputs": [
    {
     "name": "stdout",
     "output_type": "stream",
     "text": [
      "[1, 4, 9, 16, 25, 36, 49]\n"
     ]
    }
   ],
   "source": [
    "lst1 = [i*i for i in lst]\n",
    "print(lst1)"
   ]
  },
  {
   "cell_type": "code",
   "execution_count": 126,
   "id": "83b6f915",
   "metadata": {},
   "outputs": [
    {
     "name": "stdout",
     "output_type": "stream",
     "text": [
      "[4, 16, 36]\n"
     ]
    }
   ],
   "source": [
    "# Exercise: Square of even number only?\n",
    "lst2 = [i*i for i in lst if i %2 == 0]\n",
    "print(lst2)"
   ]
  },
  {
   "cell_type": "markdown",
   "id": "9ab48b3a",
   "metadata": {},
   "source": [
    "# String Formatting"
   ]
  },
  {
   "cell_type": "code",
   "execution_count": 127,
   "id": "efdfe9d1",
   "metadata": {},
   "outputs": [],
   "source": [
    "# .format()\n",
    "def hello(name):\n",
    "    return \"Hello {} !!\".format(name)"
   ]
  },
  {
   "cell_type": "code",
   "execution_count": 128,
   "id": "9b485860",
   "metadata": {},
   "outputs": [
    {
     "data": {
      "text/plain": [
       "'Hello Riddhi !!'"
      ]
     },
     "execution_count": 128,
     "metadata": {},
     "output_type": "execute_result"
    }
   ],
   "source": [
    "hello(\"Riddhi\")"
   ]
  },
  {
   "cell_type": "code",
   "execution_count": 129,
   "id": "e6044af5",
   "metadata": {},
   "outputs": [],
   "source": [
    "def welcome_home(name,age):\n",
    "    return \"Welcome {n1}. Age is {a1}\".format(a1=age,n1=name)"
   ]
  },
  {
   "cell_type": "code",
   "execution_count": 130,
   "id": "dfd4b354",
   "metadata": {},
   "outputs": [
    {
     "data": {
      "text/plain": [
       "'Welcome Riddhi. Age is 27'"
      ]
     },
     "execution_count": 130,
     "metadata": {},
     "output_type": "execute_result"
    }
   ],
   "source": [
    "welcome_home(\"Riddhi\",27)"
   ]
  },
  {
   "cell_type": "markdown",
   "id": "7398d600",
   "metadata": {},
   "source": [
    "# IS Vs =="
   ]
  },
  {
   "cell_type": "code",
   "execution_count": 131,
   "id": "9a4bd443",
   "metadata": {},
   "outputs": [],
   "source": [
    "lst1 = [\"Riddhi\",\"Prem\",\"Lalbandi\"]\n",
    "lst2 = [\"Riddhi\",\"Prem\",\"Lalbandi\"]"
   ]
  },
  {
   "cell_type": "code",
   "execution_count": 132,
   "id": "1164e253",
   "metadata": {},
   "outputs": [
    {
     "data": {
      "text/plain": [
       "True"
      ]
     },
     "execution_count": 132,
     "metadata": {},
     "output_type": "execute_result"
    }
   ],
   "source": [
    "# Here lst1 and lst2 will take different memory location with same list element on it\n",
    "# It will try to compare values of each lst not memory location.\n",
    "lst1 == lst2"
   ]
  },
  {
   "cell_type": "code",
   "execution_count": 133,
   "id": "60a58f4f",
   "metadata": {},
   "outputs": [
    {
     "data": {
      "text/plain": [
       "False"
      ]
     },
     "execution_count": 133,
     "metadata": {},
     "output_type": "execute_result"
    }
   ],
   "source": [
    "lst1 is lst2"
   ]
  },
  {
   "cell_type": "code",
   "execution_count": 134,
   "id": "be4df8ba",
   "metadata": {},
   "outputs": [],
   "source": [
    "lst1 = [\"Riddhi\",\"Prem\",\"Lalbandi\"]\n",
    "lst2 = lst1     # Here lst1 have store element is some memory location and the same memory is provided to lst2, so lst1 and lst2 is equal in this case"
   ]
  },
  {
   "cell_type": "code",
   "execution_count": 135,
   "id": "74abaeae",
   "metadata": {},
   "outputs": [
    {
     "data": {
      "text/plain": [
       "True"
      ]
     },
     "execution_count": 135,
     "metadata": {},
     "output_type": "execute_result"
    }
   ],
   "source": [
    "lst1 is lst2"
   ]
  },
  {
   "cell_type": "code",
   "execution_count": 136,
   "id": "7029b469",
   "metadata": {},
   "outputs": [
    {
     "data": {
      "text/plain": [
       "'Riddhi'"
      ]
     },
     "execution_count": 136,
     "metadata": {},
     "output_type": "execute_result"
    }
   ],
   "source": [
    "# Let's check mutability\n",
    "lst2[0]"
   ]
  },
  {
   "cell_type": "code",
   "execution_count": 137,
   "id": "690eee07",
   "metadata": {},
   "outputs": [],
   "source": [
    "lst2[0]=\"Sarlahi\""
   ]
  },
  {
   "cell_type": "code",
   "execution_count": 138,
   "id": "ea6e9c92",
   "metadata": {},
   "outputs": [
    {
     "data": {
      "text/plain": [
       "['Sarlahi', 'Prem', 'Lalbandi']"
      ]
     },
     "execution_count": 138,
     "metadata": {},
     "output_type": "execute_result"
    }
   ],
   "source": [
    "lst2"
   ]
  },
  {
   "cell_type": "code",
   "execution_count": 139,
   "id": "ef0c7bb1",
   "metadata": {},
   "outputs": [
    {
     "data": {
      "text/plain": [
       "['Sarlahi', 'Prem', 'Lalbandi']"
      ]
     },
     "execution_count": 139,
     "metadata": {},
     "output_type": "execute_result"
    }
   ],
   "source": [
    "# What will happen to lst1?\n",
    "lst1"
   ]
  },
  {
   "cell_type": "markdown",
   "id": "b8334618",
   "metadata": {},
   "source": [
    "# Deep Copy vs Shallow Copy"
   ]
  },
  {
   "cell_type": "markdown",
   "id": "fe58497a",
   "metadata": {},
   "source": [
    "###  = , copy() , deepcopy()"
   ]
  },
  {
   "cell_type": "code",
   "execution_count": 140,
   "id": "2b49d0d4",
   "metadata": {},
   "outputs": [],
   "source": [
    "lst1 = [1,2,3,4,5]\n",
    "lst2 = lst1 # Assigned lst1 to lst2"
   ]
  },
  {
   "cell_type": "code",
   "execution_count": 141,
   "id": "7ea93a54",
   "metadata": {},
   "outputs": [
    {
     "data": {
      "text/plain": [
       "([1, 2, 3, 4, 5], [1, 2, 3, 4, 5])"
      ]
     },
     "execution_count": 141,
     "metadata": {},
     "output_type": "execute_result"
    }
   ],
   "source": [
    "lst1,lst2"
   ]
  },
  {
   "cell_type": "code",
   "execution_count": 142,
   "id": "c79468f9",
   "metadata": {},
   "outputs": [],
   "source": [
    "lst2[1] = 777"
   ]
  },
  {
   "cell_type": "code",
   "execution_count": 143,
   "id": "a52e150b",
   "metadata": {},
   "outputs": [
    {
     "data": {
      "text/plain": [
       "[1, 777, 3, 4, 5]"
      ]
     },
     "execution_count": 143,
     "metadata": {},
     "output_type": "execute_result"
    }
   ],
   "source": [
    "lst2"
   ]
  },
  {
   "cell_type": "code",
   "execution_count": 144,
   "id": "e944ee35",
   "metadata": {},
   "outputs": [
    {
     "data": {
      "text/plain": [
       "[1, 777, 3, 4, 5]"
      ]
     },
     "execution_count": 144,
     "metadata": {},
     "output_type": "execute_result"
    }
   ],
   "source": [
    "lst1"
   ]
  },
  {
   "cell_type": "raw",
   "id": "8191881b",
   "metadata": {},
   "source": [
    "# Here we found that lst2[1] element is updated to 777; we saw that lst1[1] is also be update\n",
    "# This is due to that we have just assigned lst1 to lst2 and lst1 will be stored on some memeory location so lst2 is just assigned lst1 so lst2 also be pointed to same address location as lst1\n",
    "# so both lst2 and lst1 is refrencing to same memory location"
   ]
  },
  {
   "cell_type": "code",
   "execution_count": 145,
   "id": "6a5185af",
   "metadata": {},
   "outputs": [],
   "source": [
    "##Copy\n",
    "## Shallow copy\n",
    "lst1 = [1,2,3,4,5]\n",
    "lst2 = lst1.copy()"
   ]
  },
  {
   "cell_type": "code",
   "execution_count": 146,
   "id": "678fb18d",
   "metadata": {},
   "outputs": [
    {
     "data": {
      "text/plain": [
       "[1, 2, 3, 4, 5]"
      ]
     },
     "execution_count": 146,
     "metadata": {},
     "output_type": "execute_result"
    }
   ],
   "source": [
    "lst2"
   ]
  },
  {
   "cell_type": "code",
   "execution_count": 147,
   "id": "f9ea292e",
   "metadata": {},
   "outputs": [],
   "source": [
    "# Due to .copy() operation; it will be going to make different memory location.\n",
    "# It not just going to reference same memory location\n",
    "lst2[2] = 777"
   ]
  },
  {
   "cell_type": "code",
   "execution_count": 148,
   "id": "052e45fc",
   "metadata": {},
   "outputs": [
    {
     "data": {
      "text/plain": [
       "([1, 2, 777, 4, 5], [1, 2, 3, 4, 5])"
      ]
     },
     "execution_count": 148,
     "metadata": {},
     "output_type": "execute_result"
    }
   ],
   "source": [
    "# Both have differnet memroy location here\n",
    "lst2,lst1"
   ]
  },
  {
   "cell_type": "code",
   "execution_count": 149,
   "id": "64bf1bec",
   "metadata": {},
   "outputs": [],
   "source": [
    "## Shallow copy nested list\n",
    "lst1 = [[1,2,3,4,5],[6,7,8,9]]\n",
    "lst2 = lst1.copy()"
   ]
  },
  {
   "cell_type": "code",
   "execution_count": 150,
   "id": "0dfdd622",
   "metadata": {},
   "outputs": [
    {
     "data": {
      "text/plain": [
       "[[1, 2, 3, 4, 5], [6, 7, 8, 9]]"
      ]
     },
     "execution_count": 150,
     "metadata": {},
     "output_type": "execute_result"
    }
   ],
   "source": [
    "lst1"
   ]
  },
  {
   "cell_type": "code",
   "execution_count": 151,
   "id": "799dfcce",
   "metadata": {},
   "outputs": [
    {
     "data": {
      "text/plain": [
       "[[1, 2, 3, 4, 5], [6, 7, 8, 9]]"
      ]
     },
     "execution_count": 151,
     "metadata": {},
     "output_type": "execute_result"
    }
   ],
   "source": [
    "lst2"
   ]
  },
  {
   "cell_type": "code",
   "execution_count": 152,
   "id": "20d9ac42",
   "metadata": {},
   "outputs": [],
   "source": [
    "lst1[1][0]=100"
   ]
  },
  {
   "cell_type": "code",
   "execution_count": 153,
   "id": "ddd96f6f",
   "metadata": {},
   "outputs": [
    {
     "data": {
      "text/plain": [
       "[[1, 2, 3, 4, 5], [100, 7, 8, 9]]"
      ]
     },
     "execution_count": 153,
     "metadata": {},
     "output_type": "execute_result"
    }
   ],
   "source": [
    "lst1"
   ]
  },
  {
   "cell_type": "code",
   "execution_count": 154,
   "id": "b8579f91",
   "metadata": {},
   "outputs": [
    {
     "data": {
      "text/plain": [
       "[[1, 2, 3, 4, 5], [100, 7, 8, 9]]"
      ]
     },
     "execution_count": 154,
     "metadata": {},
     "output_type": "execute_result"
    }
   ],
   "source": [
    "lst2"
   ]
  },
  {
   "cell_type": "raw",
   "id": "77d324f8",
   "metadata": {},
   "source": [
    "# But in case of nested list, it will reflect to both list; because, it is refereing to the same object inside the nested list "
   ]
  },
  {
   "cell_type": "code",
   "execution_count": 155,
   "id": "b2fddd5f",
   "metadata": {},
   "outputs": [],
   "source": [
    "# If we use append() to append list element \n",
    "lst1.append([111,222,333,444])"
   ]
  },
  {
   "cell_type": "code",
   "execution_count": 156,
   "id": "6434df66",
   "metadata": {},
   "outputs": [
    {
     "data": {
      "text/plain": [
       "[[1, 2, 3, 4, 5], [100, 7, 8, 9], [111, 222, 333, 444]]"
      ]
     },
     "execution_count": 156,
     "metadata": {},
     "output_type": "execute_result"
    }
   ],
   "source": [
    "lst1"
   ]
  },
  {
   "cell_type": "code",
   "execution_count": 157,
   "id": "ca802e74",
   "metadata": {},
   "outputs": [
    {
     "data": {
      "text/plain": [
       "[[1, 2, 3, 4, 5], [100, 7, 8, 9]]"
      ]
     },
     "execution_count": 157,
     "metadata": {},
     "output_type": "execute_result"
    }
   ],
   "source": [
    "lst2"
   ]
  },
  {
   "cell_type": "raw",
   "id": "4876f09e",
   "metadata": {},
   "source": [
    "# This item [111,222,333,444] will not copied or reflected.\n",
    "# But if you are making changes on the object that is present inside the list, at that time it will defenetly make changes."
   ]
  },
  {
   "cell_type": "raw",
   "id": "1fe9ce23",
   "metadata": {},
   "source": [
    "# When we create nested list the appended list will be consider as collection of items;\n",
    "# inside it , we have various object or items [111,222,333,444], this will be refered by both lst1 and lst2\n",
    "# But when we have multiple items like [[1,2,3,4,5],[100,7,8,9]]\n",
    "# When i am adding suppose one item [111,222,333,444] at that time the same thing wil not get refered in othe list"
   ]
  },
  {
   "cell_type": "code",
   "execution_count": 158,
   "id": "d203b399",
   "metadata": {},
   "outputs": [],
   "source": [
    "## Deep Copy\n",
    "import copy\n",
    "lst1 = [1,2,3,4]\n",
    "lst2 = copy.deepcopy(lst1)"
   ]
  },
  {
   "cell_type": "code",
   "execution_count": 159,
   "id": "ab5e3367",
   "metadata": {},
   "outputs": [
    {
     "data": {
      "text/plain": [
       "[1, 2, 3, 4]"
      ]
     },
     "execution_count": 159,
     "metadata": {},
     "output_type": "execute_result"
    }
   ],
   "source": [
    "lst2"
   ]
  },
  {
   "cell_type": "code",
   "execution_count": 160,
   "id": "f6e4f541",
   "metadata": {},
   "outputs": [],
   "source": [
    "lst2[1] = 100"
   ]
  },
  {
   "cell_type": "code",
   "execution_count": 161,
   "id": "c7fe3e21",
   "metadata": {},
   "outputs": [
    {
     "data": {
      "text/plain": [
       "[1, 100, 3, 4]"
      ]
     },
     "execution_count": 161,
     "metadata": {},
     "output_type": "execute_result"
    }
   ],
   "source": [
    "lst2"
   ]
  },
  {
   "cell_type": "code",
   "execution_count": 162,
   "id": "05cf8054",
   "metadata": {},
   "outputs": [
    {
     "data": {
      "text/plain": [
       "[1, 2, 3, 4]"
      ]
     },
     "execution_count": 162,
     "metadata": {},
     "output_type": "execute_result"
    }
   ],
   "source": [
    "lst1"
   ]
  },
  {
   "cell_type": "code",
   "execution_count": 163,
   "id": "6c001103",
   "metadata": {},
   "outputs": [],
   "source": [
    "## In 1D list i.e not nested list; shallow copy == deep copy\n"
   ]
  },
  {
   "cell_type": "code",
   "execution_count": 164,
   "id": "625333db",
   "metadata": {},
   "outputs": [],
   "source": [
    "## shallow copy != deep copy\n",
    "lst1 = [[1,2,3],[3,4,5],[5,6,7]]\n",
    "lst2 = copy.deepcopy(lst1)"
   ]
  },
  {
   "cell_type": "code",
   "execution_count": 165,
   "id": "b8450fcf",
   "metadata": {},
   "outputs": [
    {
     "data": {
      "text/plain": [
       "[[1, 2, 3], [3, 4, 5], [5, 6, 7]]"
      ]
     },
     "execution_count": 165,
     "metadata": {},
     "output_type": "execute_result"
    }
   ],
   "source": [
    "lst2"
   ]
  },
  {
   "cell_type": "code",
   "execution_count": 166,
   "id": "8e1ee32c",
   "metadata": {},
   "outputs": [
    {
     "data": {
      "text/plain": [
       "3"
      ]
     },
     "execution_count": 166,
     "metadata": {},
     "output_type": "execute_result"
    }
   ],
   "source": [
    "lst2[1][0]"
   ]
  },
  {
   "cell_type": "code",
   "execution_count": 167,
   "id": "55a53957",
   "metadata": {},
   "outputs": [],
   "source": [
    "lst2[1][0] = 1000"
   ]
  },
  {
   "cell_type": "code",
   "execution_count": 168,
   "id": "8063ea9a",
   "metadata": {},
   "outputs": [
    {
     "data": {
      "text/plain": [
       "[[1, 2, 3], [1000, 4, 5], [5, 6, 7]]"
      ]
     },
     "execution_count": 168,
     "metadata": {},
     "output_type": "execute_result"
    }
   ],
   "source": [
    "lst2"
   ]
  },
  {
   "cell_type": "code",
   "execution_count": 169,
   "id": "4122125e",
   "metadata": {},
   "outputs": [
    {
     "data": {
      "text/plain": [
       "[[1, 2, 3], [3, 4, 5], [5, 6, 7]]"
      ]
     },
     "execution_count": 169,
     "metadata": {},
     "output_type": "execute_result"
    }
   ],
   "source": [
    "lst1"
   ]
  },
  {
   "cell_type": "code",
   "execution_count": 170,
   "id": "6ed8d75a",
   "metadata": {},
   "outputs": [],
   "source": [
    "# Now we do everything in separte memory loction; i.e is differnce between shallow copy and deep copy"
   ]
  },
  {
   "cell_type": "markdown",
   "id": "36029da0",
   "metadata": {},
   "source": [
    "# Iterables vs Iterators"
   ]
  },
  {
   "cell_type": "code",
   "execution_count": 171,
   "id": "5c6376f0",
   "metadata": {},
   "outputs": [
    {
     "name": "stdout",
     "output_type": "stream",
     "text": [
      "1\n",
      "2\n",
      "3\n",
      "4\n",
      "5\n",
      "6\n",
      "7\n"
     ]
    }
   ],
   "source": [
    "# List is iterable \n",
    "# when we initialize list then all the element are allocated in memory location\n",
    "# when we iterating means that we iterating through memory allocation\n",
    "\n",
    "\n",
    "lst = [1,2,3,4,5,6,7]\n",
    "\n",
    "for i in lst:\n",
    "    print(i)"
   ]
  },
  {
   "cell_type": "raw",
   "id": "a90ecb57",
   "metadata": {},
   "source": [
    "If we convert list into iter,all the value will not initalize in memory, unless and until we didn't call inbuild function 'Next'\n",
    "Once we called 'Next', then only that first element i.e present inside iterator will initalize in memory\n",
    "\n"
   ]
  },
  {
   "cell_type": "code",
   "execution_count": 172,
   "id": "c4d227e3",
   "metadata": {},
   "outputs": [],
   "source": [
    "lst1=iter(lst)"
   ]
  },
  {
   "cell_type": "code",
   "execution_count": 173,
   "id": "980a21e5",
   "metadata": {},
   "outputs": [
    {
     "data": {
      "text/plain": [
       "<list_iterator at 0x7fa0443c00a0>"
      ]
     },
     "execution_count": 173,
     "metadata": {},
     "output_type": "execute_result"
    }
   ],
   "source": [
    "lst1"
   ]
  },
  {
   "cell_type": "raw",
   "id": "608cc081",
   "metadata": {},
   "source": [
    "We can't see all the element at once, bcoz memory is not inialize for for lst1 iterator element.\n",
    "\n",
    "To see the element, we can use next(), one by one element is initalize while we use next()"
   ]
  },
  {
   "cell_type": "code",
   "execution_count": 174,
   "id": "c42852fe",
   "metadata": {},
   "outputs": [
    {
     "data": {
      "text/plain": [
       "1"
      ]
     },
     "execution_count": 174,
     "metadata": {},
     "output_type": "execute_result"
    }
   ],
   "source": [
    "next(lst1)"
   ]
  },
  {
   "cell_type": "code",
   "execution_count": 175,
   "id": "c965f4d5",
   "metadata": {},
   "outputs": [
    {
     "data": {
      "text/plain": [
       "2"
      ]
     },
     "execution_count": 175,
     "metadata": {},
     "output_type": "execute_result"
    }
   ],
   "source": [
    "next(lst1)"
   ]
  },
  {
   "cell_type": "code",
   "execution_count": 176,
   "id": "650ece5d",
   "metadata": {},
   "outputs": [
    {
     "name": "stdout",
     "output_type": "stream",
     "text": [
      "3\n",
      "4\n",
      "5\n",
      "6\n",
      "7\n"
     ]
    }
   ],
   "source": [
    "# Alternate way to reterive iterator, exeception is already handle by for loop internally\n",
    "for i in lst1:\n",
    "    print(i)"
   ]
  },
  {
   "cell_type": "code",
   "execution_count": 177,
   "id": "db6359b6",
   "metadata": {},
   "outputs": [],
   "source": [
    "# Advantage to use iterator is memory management, initally iterator doesn't initalize memroy.\n",
    "# It only initalize only when we use next() inbuild function, and initalize one by one."
   ]
  },
  {
   "cell_type": "markdown",
   "id": "8aab19f8",
   "metadata": {},
   "source": [
    "## Iterators Vs Generator"
   ]
  },
  {
   "cell_type": "code",
   "execution_count": 178,
   "id": "a458bfde",
   "metadata": {},
   "outputs": [
    {
     "name": "stdout",
     "output_type": "stream",
     "text": [
      "2\n",
      "3\n",
      "4\n",
      "5\n",
      "6\n"
     ]
    }
   ],
   "source": [
    "## Iterable\n",
    "lst = [2,3,4,5,6]\n",
    "for i in lst:\n",
    "    print(i)"
   ]
  },
  {
   "cell_type": "code",
   "execution_count": 179,
   "id": "5288cb77",
   "metadata": {},
   "outputs": [],
   "source": [
    "### Iterator\n",
    "iterable = iter(lst)"
   ]
  },
  {
   "cell_type": "code",
   "execution_count": 180,
   "id": "d0608f9e",
   "metadata": {},
   "outputs": [
    {
     "data": {
      "text/plain": [
       "list_iterator"
      ]
     },
     "execution_count": 180,
     "metadata": {},
     "output_type": "execute_result"
    }
   ],
   "source": [
    "type(iterable)"
   ]
  },
  {
   "cell_type": "code",
   "execution_count": 181,
   "id": "7a216af7",
   "metadata": {},
   "outputs": [
    {
     "name": "stdout",
     "output_type": "stream",
     "text": [
      "2\n",
      "3\n",
      "4\n",
      "5\n",
      "6\n"
     ]
    }
   ],
   "source": [
    "# We can iterate use for loop\n",
    "for i in iterable:\n",
    "    print(i)"
   ]
  },
  {
   "cell_type": "code",
   "execution_count": 182,
   "id": "e9a5996a",
   "metadata": {},
   "outputs": [
    {
     "data": {
      "text/plain": [
       "<list_iterator at 0x7fa04437d970>"
      ]
     },
     "execution_count": 182,
     "metadata": {},
     "output_type": "execute_result"
    }
   ],
   "source": [
    "iterable   # Dynamic memory cell or location"
   ]
  },
  {
   "cell_type": "code",
   "execution_count": 183,
   "id": "9caa79df",
   "metadata": {},
   "outputs": [
    {
     "ename": "StopIteration",
     "evalue": "",
     "output_type": "error",
     "traceback": [
      "\u001b[0;31m---------------------------------------------------------------------------\u001b[0m",
      "\u001b[0;31mStopIteration\u001b[0m                             Traceback (most recent call last)",
      "\u001b[0;32m/tmp/ipykernel_3035/3395056658.py\u001b[0m in \u001b[0;36m<module>\u001b[0;34m\u001b[0m\n\u001b[1;32m      1\u001b[0m \u001b[0;31m# Other way to iterate is next()\u001b[0m\u001b[0;34m\u001b[0m\u001b[0;34m\u001b[0m\u001b[0;34m\u001b[0m\u001b[0m\n\u001b[0;32m----> 2\u001b[0;31m \u001b[0mnext\u001b[0m\u001b[0;34m(\u001b[0m\u001b[0miterable\u001b[0m\u001b[0;34m)\u001b[0m\u001b[0;34m\u001b[0m\u001b[0;34m\u001b[0m\u001b[0m\n\u001b[0m",
      "\u001b[0;31mStopIteration\u001b[0m: "
     ]
    }
   ],
   "source": [
    "# Other way to iterate is next()\n",
    "next(iterable)"
   ]
  },
  {
   "cell_type": "code",
   "execution_count": 184,
   "id": "cc3b4158",
   "metadata": {},
   "outputs": [],
   "source": [
    "# As soon the item is finished to iterate by using next() function, we will face exception\n",
    "# exection didn't handle with next() function but it is handled with for loop"
   ]
  },
  {
   "cell_type": "raw",
   "id": "0e42bbf4",
   "metadata": {},
   "source": [
    "Create Generator which is useful to create iterator itself"
   ]
  },
  {
   "cell_type": "code",
   "execution_count": 185,
   "id": "c880c068",
   "metadata": {},
   "outputs": [],
   "source": [
    "### Generator\n",
    "def square(n):\n",
    "    for i in range(n):\n",
    "        return i**2"
   ]
  },
  {
   "cell_type": "code",
   "execution_count": 186,
   "id": "dfe88e07",
   "metadata": {},
   "outputs": [
    {
     "data": {
      "text/plain": [
       "0"
      ]
     },
     "execution_count": 186,
     "metadata": {},
     "output_type": "execute_result"
    }
   ],
   "source": [
    "square(4)"
   ]
  },
  {
   "cell_type": "code",
   "execution_count": 187,
   "id": "810b1f63",
   "metadata": {},
   "outputs": [],
   "source": [
    "# If we replace return with yield; it will first convert entire\n",
    "# function to iterator but it is a kind of generator\n",
    "def square(n):\n",
    "    for i in range(n):\n",
    "        yield i**2"
   ]
  },
  {
   "cell_type": "code",
   "execution_count": 188,
   "id": "41ec3ea8",
   "metadata": {},
   "outputs": [
    {
     "data": {
      "text/plain": [
       "<generator object square at 0x7fa0443a1430>"
      ]
     },
     "execution_count": 188,
     "metadata": {},
     "output_type": "execute_result"
    }
   ],
   "source": [
    "square(4)"
   ]
  },
  {
   "cell_type": "code",
   "execution_count": 189,
   "id": "84390c25",
   "metadata": {},
   "outputs": [
    {
     "name": "stdout",
     "output_type": "stream",
     "text": [
      "0\n",
      "1\n",
      "4\n",
      "9\n"
     ]
    }
   ],
   "source": [
    "# Yield keyword will not just only return with respect to one iteration,\n",
    "# It will return to all the iteration present over there and saving that paritcular values(local values)\n",
    "for i in square(4):\n",
    "    print(i)"
   ]
  },
  {
   "cell_type": "code",
   "execution_count": 190,
   "id": "d8e81b6f",
   "metadata": {},
   "outputs": [
    {
     "data": {
      "text/plain": [
       "<generator object square at 0x7fa0443a1660>"
      ]
     },
     "execution_count": 190,
     "metadata": {},
     "output_type": "execute_result"
    }
   ],
   "source": [
    "a = square(4)\n",
    "a"
   ]
  },
  {
   "cell_type": "code",
   "execution_count": 191,
   "id": "5a4cd986",
   "metadata": {},
   "outputs": [
    {
     "data": {
      "text/plain": [
       "0"
      ]
     },
     "execution_count": 191,
     "metadata": {},
     "output_type": "execute_result"
    }
   ],
   "source": [
    "next(a)"
   ]
  },
  {
   "cell_type": "markdown",
   "id": "60983c62",
   "metadata": {},
   "source": [
    "### Basic difference between iterator and generator\n",
    "1. To create iterator we use **iter()** and to create generator we use **function** along with yield keyword\n",
    "2. Generator uses the **yield** keyword . it saves the local variables value.  \n",
    "3. Generator in python helps us to write fast and compact code.\n",
    "4. Python iterator is much more memroy efficient."
   ]
  },
  {
   "cell_type": "code",
   "execution_count": 192,
   "id": "035cb23b",
   "metadata": {},
   "outputs": [],
   "source": [
    "import types,collections"
   ]
  },
  {
   "cell_type": "code",
   "execution_count": 193,
   "id": "3ad6bf87",
   "metadata": {},
   "outputs": [
    {
     "name": "stderr",
     "output_type": "stream",
     "text": [
      "/tmp/ipykernel_3035/42433931.py:1: DeprecationWarning: Using or importing the ABCs from 'collections' instead of from 'collections.abc' is deprecated since Python 3.3, and in 3.10 it will stop working\n",
      "  issubclass(types.GeneratorType,collections.Iterator)\n"
     ]
    },
    {
     "data": {
      "text/plain": [
       "True"
      ]
     },
     "execution_count": 193,
     "metadata": {},
     "output_type": "execute_result"
    }
   ],
   "source": [
    "issubclass(types.GeneratorType,collections.Iterator)"
   ]
  },
  {
   "cell_type": "raw",
   "id": "f4133b23",
   "metadata": {},
   "source": [
    "Generator is also iterator, it is inheriting from Iterator class itself."
   ]
  }
 ],
 "metadata": {
  "kernelspec": {
   "display_name": "Python 3 (ipykernel)",
   "language": "python",
   "name": "python3"
  },
  "language_info": {
   "codemirror_mode": {
    "name": "ipython",
    "version": 3
   },
   "file_extension": ".py",
   "mimetype": "text/x-python",
   "name": "python",
   "nbconvert_exporter": "python",
   "pygments_lexer": "ipython3",
   "version": "3.8.12"
  }
 },
 "nbformat": 4,
 "nbformat_minor": 5
}
